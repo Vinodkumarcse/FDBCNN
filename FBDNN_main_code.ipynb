{
  "nbformat": 4,
  "nbformat_minor": 0,
  "metadata": {
    "accelerator": "GPU",
    "colab": {
      "provenance": [],
      "machine_shape": "hm"
    },
    "kernelspec": {
      "display_name": "Python 3",
      "name": "python3"
    }
  },
  "cells": [
    {
      "cell_type": "code",
      "metadata": {
        "colab": {
          "base_uri": "https://localhost:8080/"
        },
        "id": "8kwn1tW5ZW9c",
        "outputId": "13095f03-8b1e-41e9-98c2-cbc75d5bdf7c"
      },
      "source": [
        "from google.colab import drive\n",
        "drive.mount('/content/drive')"
      ],
      "execution_count": null,
      "outputs": [
        {
          "output_type": "stream",
          "text": [
            "Drive already mounted at /content/drive; to attempt to forcibly remount, call drive.mount(\"/content/drive\", force_remount=True).\n"
          ],
          "name": "stdout"
        }
      ]
    },
    {
      "cell_type": "code",
      "metadata": {
        "colab": {
          "base_uri": "https://localhost:8080/"
        },
        "id": "sJBa3lKBnFoK",
        "outputId": "9337a911-f7b8-47ba-a9b5-81ba1fdc09bc"
      },
      "source": [
        "#memory that we can use\n",
        "!free -h --si | awk  '/Mem:/{print $2}'"
      ],
      "execution_count": null,
      "outputs": [
        {
          "output_type": "stream",
          "text": [
            "26G\n"
          ],
          "name": "stdout"
        }
      ]
    },
    {
      "cell_type": "code",
      "metadata": {
        "colab": {
          "base_uri": "https://localhost:8080/"
        },
        "id": "NAAjQ0smZYBG",
        "outputId": "4c8187e7-6573-4b99-eacc-2494e83cf90f"
      },
      "source": [
        "!pip install spectral"
      ],
      "execution_count": null,
      "outputs": [
        {
          "output_type": "stream",
          "text": [
            "Requirement already satisfied: spectral in /usr/local/lib/python3.7/dist-packages (0.22.2)\n",
            "Requirement already satisfied: numpy in /usr/local/lib/python3.7/dist-packages (from spectral) (1.19.5)\n"
          ],
          "name": "stdout"
        }
      ]
    },
    {
      "cell_type": "code",
      "metadata": {
        "id": "gJMzjonUwDQz"
      },
      "source": [],
      "execution_count": null,
      "outputs": []
    },
    {
      "cell_type": "code",
      "metadata": {
        "colab": {
          "base_uri": "https://localhost:8080/",
          "height": 17
        },
        "id": "6cieLzIpZYLS",
        "outputId": "06284594-3947-45c7-9956-3b49307efb92"
      },
      "source": [
        "import keras\n",
        "from keras.layers import Input\n",
        "#from tensorflow.keras.optimizers import Adam\n",
        "from keras.layers import Conv2D, Conv3D, Flatten, Dense, Reshape, BatchNormalization\n",
        "from keras.layers import Dropout,AveragePooling2D\n",
        "from keras.models import Model\n",
        "from keras.optimizers import Adam\n",
        "from keras.callbacks import ModelCheckpoint\n",
        "from keras.utils import np_utils\n",
        "\n",
        "from sklearn.decomposition import PCA\n",
        "from sklearn.model_selection import train_test_split\n",
        "from sklearn.metrics import confusion_matrix, accuracy_score, classification_report, cohen_kappa_score\n",
        "\n",
        "from operator import truediv\n",
        "\n",
        "from plotly.offline import init_notebook_mode\n",
        "\n",
        "import numpy as np\n",
        "import matplotlib.pyplot as plt\n",
        "import scipy.io as sio\n",
        "import os\n",
        "import spectral\n",
        "\n",
        "from skimage import feature\n",
        "from keras.layers import Concatenate, Lambda\n",
        "init_notebook_mode(connected=True)\n",
        "%matplotlib inline"
      ],
      "execution_count": null,
      "outputs": [
        {
          "output_type": "display_data",
          "data": {
            "text/html": [
              "        <script type=\"text/javascript\">\n",
              "        window.PlotlyConfig = {MathJaxConfig: 'local'};\n",
              "        if (window.MathJax) {MathJax.Hub.Config({SVG: {font: \"STIX-Web\"}});}\n",
              "        if (typeof require !== 'undefined') {\n",
              "        require.undef(\"plotly\");\n",
              "        requirejs.config({\n",
              "            paths: {\n",
              "                'plotly': ['https://cdn.plot.ly/plotly-latest.min']\n",
              "            }\n",
              "        });\n",
              "        require(['plotly'], function(Plotly) {\n",
              "            window._Plotly = Plotly;\n",
              "        });\n",
              "        }\n",
              "        </script>\n",
              "        "
            ]
          },
          "metadata": {
            "tags": []
          }
        }
      ]
    },
    {
      "cell_type": "code",
      "metadata": {
        "id": "pHQgj7TWZYT_"
      },
      "source": [
        "## GLOBAL VARIABLES\n",
        "dataset = 'IP'\n",
        "test_ratio = 0.7\n",
        "windowSize = 25"
      ],
      "execution_count": null,
      "outputs": []
    },
    {
      "cell_type": "code",
      "metadata": {
        "id": "aP2zgUhKZYa2"
      },
      "source": [
        "def loadData(name):\n",
        "    data_path = os.path.join(os.getcwd(),'/content/drive/My Drive/data/')\n",
        "    if name == 'IP':\n",
        "        data = sio.loadmat(os.path.join(data_path, 'Indian_pines_corrected.mat'))['indian_pines_corrected']\n",
        "        labels = sio.loadmat(os.path.join(data_path, 'Indian_pines_gt.mat'))['indian_pines_gt']\n",
        "    elif name == 'SA':\n",
        "        data = sio.loadmat(os.path.join(data_path, 'Salinas_corrected.mat'))['salinas_corrected']\n",
        "        labels = sio.loadmat(os.path.join(data_path, 'Salinas_gt.mat'))['salinas_gt']\n",
        "    elif name == 'PU':\n",
        "        data = sio.loadmat(os.path.join(data_path, 'PaviaU.mat'))['paviaU']\n",
        "        labels = sio.loadmat(os.path.join(data_path, 'PaviaU_gt.mat'))['paviaU_gt']\n",
        "    \n",
        "    return data, labels"
      ],
      "execution_count": null,
      "outputs": []
    },
    {
      "cell_type": "code",
      "metadata": {
        "id": "OCEeJUOGZYgL"
      },
      "source": [
        "def splitTrainTestSet(X, y, testRatio, randomState=345):\n",
        "    X_train, X_test, y_train, y_test = train_test_split(X, y, test_size=testRatio, random_state=randomState,\n",
        "                                                        stratify=y)\n",
        "    return X_train, X_test, y_train, y_test"
      ],
      "execution_count": null,
      "outputs": []
    },
    {
      "cell_type": "code",
      "metadata": {
        "id": "4Dmin_UbZYmo"
      },
      "source": [
        "def applyPCA(X, numComponents=75):\n",
        "    newX = np.reshape(X, (-1, X.shape[2]))\n",
        "    pca = PCA(n_components=numComponents, whiten=True)\n",
        "    newX = pca.fit_transform(newX)\n",
        "    newX = np.reshape(newX, (X.shape[0],X.shape[1], numComponents))\n",
        "    return newX, pca"
      ],
      "execution_count": null,
      "outputs": []
    },
    {
      "cell_type": "code",
      "metadata": {
        "id": "drldM_fwZY1z"
      },
      "source": [
        "def padWithZeros(X, margin=2):\n",
        "    newX = np.zeros((X.shape[0] + 2 * margin, X.shape[1] + 2* margin, X.shape[2]))\n",
        "    x_offset = margin\n",
        "    y_offset = margin\n",
        "    newX[x_offset:X.shape[0] + x_offset, y_offset:X.shape[1] + y_offset, :] = X\n",
        "    return newX"
      ],
      "execution_count": null,
      "outputs": []
    },
    {
      "cell_type": "code",
      "metadata": {
        "id": "RPkBMUt7ZY9s"
      },
      "source": [
        "def createImageCubes(X, y, windowSize=5, removeZeroLabels = True):\n",
        "    margin = int((windowSize - 1) / 2)\n",
        "    zeroPaddedX = padWithZeros(X, margin=margin)\n",
        "    # split patches\n",
        "    patchesData = np.zeros((X.shape[0] * X.shape[1], windowSize, windowSize, X.shape[2]))\n",
        "    patchesLabels = np.zeros((X.shape[0] * X.shape[1]))\n",
        "    patchIndex = 0\n",
        "    for r in range(margin, zeroPaddedX.shape[0] - margin):\n",
        "        for c in range(margin, zeroPaddedX.shape[1] - margin):\n",
        "            patch = zeroPaddedX[r - margin:r + margin + 1, c - margin:c + margin + 1]   \n",
        "            patchesData[patchIndex, :, :, :] = patch\n",
        "            patchesLabels[patchIndex] = y[r-margin, c-margin]\n",
        "            patchIndex = patchIndex + 1\n",
        "    if removeZeroLabels:\n",
        "        patchesData = patchesData[patchesLabels>0,:,:,:]\n",
        "        patchesLabels = patchesLabels[patchesLabels>0]\n",
        "        patchesLabels -= 1\n",
        "    return patchesData, patchesLabels"
      ],
      "execution_count": null,
      "outputs": []
    },
    {
      "cell_type": "code",
      "metadata": {
        "id": "Hp3UiOpHEzow"
      },
      "source": [
        "from scipy.fftpack import dct,idct\n",
        "def dctn(X, norm='ortho'):\n",
        "  for i in range (X.ndim):\n",
        "    X=dct(X, axis=i, norm=norm)\n",
        "  return X"
      ],
      "execution_count": null,
      "outputs": []
    },
    {
      "cell_type": "code",
      "metadata": {
        "colab": {
          "base_uri": "https://localhost:8080/"
        },
        "id": "fRGkZhP1ZZAt",
        "outputId": "33de1713-0f97-442c-9126-bc4082fc1f8f"
      },
      "source": [
        "X, y = loadData(dataset)\n",
        "X.shape, y.shape"
      ],
      "execution_count": null,
      "outputs": [
        {
          "output_type": "execute_result",
          "data": {
            "text/plain": [
              "((145, 145, 200), (145, 145))"
            ]
          },
          "metadata": {
            "tags": []
          },
          "execution_count": 12
        }
      ]
    },
    {
      "cell_type": "code",
      "metadata": {
        "colab": {
          "base_uri": "https://localhost:8080/"
        },
        "id": "cjVaaKZMZZDv",
        "outputId": "fc76b3e6-5787-4068-8602-cbc5d170b878"
      },
      "source": [
        "K = 15 if dataset == 'IP' else 10\n",
        "X,pca = applyPCA(X,numComponents=K)\n",
        "\n",
        "X.shape"
      ],
      "execution_count": null,
      "outputs": [
        {
          "output_type": "execute_result",
          "data": {
            "text/plain": [
              "(145, 145, 15)"
            ]
          },
          "metadata": {
            "tags": []
          },
          "execution_count": 13
        }
      ]
    },
    {
      "cell_type": "code",
      "metadata": {
        "colab": {
          "base_uri": "https://localhost:8080/"
        },
        "id": "uK--qUXTVHgm",
        "outputId": "264a06d8-5a4c-4836-e555-376438be3703"
      },
      "source": [
        "#Binarization of image\n",
        "X1=np.zeros(X.shape)\n",
        "X1[:,:,:]=X[:,:,:]\n",
        "bimage = (255*(X1 - np.min(X1))/np.ptp(X1)).astype(int)   \n",
        "th=np.sum(bimage)//(145*145*15)\n",
        "bimage= np.where(bimage >= th, 1, 0)\n",
        "\n",
        "for i in range(15):\n",
        "  Xtemp = bimage[:,:,i]\n",
        "  (hog_desc, hog_image) = feature.hog(Xtemp, orientations=9, pixels_per_cell=(2, 2),\n",
        "                                      cells_per_block=(8, 8), transform_sqrt=True, block_norm='L2-Hys', visualize=True)\n",
        "  hog_image_temp=np.reshape(hog_image, (145, 145 , 1))\n",
        "  X = np.concatenate((X, hog_image_temp), axis=2)\n",
        "  print(hog_image_temp.shape,X.shape)\n",
        "\n",
        "#import matplotlib.pyplot as plt\n",
        "#_, axes = plt.subplots(2, 5, figsize=(30,20))\n",
        "#axes = axes.flatten()\n",
        "#for i in range(10):\n",
        "#  axes[i].imshow(bimage[:,:,i])"
      ],
      "execution_count": null,
      "outputs": [
        {
          "output_type": "stream",
          "text": [
            "(145, 145, 1) (145, 145, 16)\n",
            "(145, 145, 1) (145, 145, 17)\n",
            "(145, 145, 1) (145, 145, 18)\n",
            "(145, 145, 1) (145, 145, 19)\n",
            "(145, 145, 1) (145, 145, 20)\n",
            "(145, 145, 1) (145, 145, 21)\n",
            "(145, 145, 1) (145, 145, 22)\n",
            "(145, 145, 1) (145, 145, 23)\n",
            "(145, 145, 1) (145, 145, 24)\n",
            "(145, 145, 1) (145, 145, 25)\n",
            "(145, 145, 1) (145, 145, 26)\n",
            "(145, 145, 1) (145, 145, 27)\n",
            "(145, 145, 1) (145, 145, 28)\n",
            "(145, 145, 1) (145, 145, 29)\n",
            "(145, 145, 1) (145, 145, 30)\n"
          ],
          "name": "stdout"
        }
      ]
    },
    {
      "cell_type": "code",
      "metadata": {
        "id": "uJ6Z5Bz4aG9-"
      },
      "source": [
        "#import matplotlib.pyplot as plt\n",
        "#_, axes = plt.subplots(4, 5, figsize=(30,20))\n",
        "#axes = axes.flatten()\n",
        "#for i in range(20):\n",
        "#  axes[i].imshow(X[:,:,i])"
      ],
      "execution_count": null,
      "outputs": []
    },
    {
      "cell_type": "code",
      "metadata": {
        "colab": {
          "base_uri": "https://localhost:8080/"
        },
        "id": "g06iP2RXi7Ve",
        "outputId": "9d85c7ec-3c88-4245-da0e-a17e2757bc22"
      },
      "source": [
        "X.shape"
      ],
      "execution_count": null,
      "outputs": [
        {
          "output_type": "execute_result",
          "data": {
            "text/plain": [
              "(145, 145, 30)"
            ]
          },
          "metadata": {
            "tags": []
          },
          "execution_count": 16
        }
      ]
    },
    {
      "cell_type": "code",
      "metadata": {
        "colab": {
          "base_uri": "https://localhost:8080/"
        },
        "id": "zcsrYPvBeTZ2",
        "outputId": "d2f78d33-e1d9-4b8a-a979-9f5bfe53a4b7"
      },
      "source": [
        "X, y = createImageCubes(X, y, windowSize=windowSize)\n",
        "\n",
        "X.shape, y.shape"
      ],
      "execution_count": null,
      "outputs": [
        {
          "output_type": "execute_result",
          "data": {
            "text/plain": [
              "((10249, 25, 25, 30), (10249,))"
            ]
          },
          "metadata": {
            "tags": []
          },
          "execution_count": 17
        }
      ]
    },
    {
      "cell_type": "code",
      "metadata": {
        "colab": {
          "base_uri": "https://localhost:8080/"
        },
        "id": "i0H89YZxadN2",
        "outputId": "8a534d3d-353c-4541-8e82-44dc6e313cf5"
      },
      "source": [
        "test=np.zeros((X.shape[:3]))\n",
        "test=X[:,:,:,0:15]\n",
        "test.shape"
      ],
      "execution_count": null,
      "outputs": [
        {
          "output_type": "execute_result",
          "data": {
            "text/plain": [
              "(10249, 25, 25, 15)"
            ]
          },
          "metadata": {
            "tags": []
          },
          "execution_count": 18
        }
      ]
    },
    {
      "cell_type": "code",
      "metadata": {
        "colab": {
          "base_uri": "https://localhost:8080/"
        },
        "id": "F0AHOXgparmn",
        "outputId": "0358b62f-fbba-4630-89cd-79907c4713fe"
      },
      "source": [
        "#DCT of image\n",
        "for i in range(test.shape[0]):\n",
        "  test[i]=dctn(test[i])\n",
        "  #print(i)\n",
        "  \n",
        "#test = test.reshape(-1, windowSize, windowSize, 15, 1)\n",
        "test.shape"
      ],
      "execution_count": null,
      "outputs": [
        {
          "output_type": "execute_result",
          "data": {
            "text/plain": [
              "(10249, 25, 25, 15)"
            ]
          },
          "metadata": {
            "tags": []
          },
          "execution_count": 19
        }
      ]
    },
    {
      "cell_type": "code",
      "metadata": {
        "colab": {
          "base_uri": "https://localhost:8080/"
        },
        "id": "ePPFWu_2axdG",
        "outputId": "c6b3a5d4-f8c4-443c-d666-286d7c0532d1"
      },
      "source": [
        "X[:,:,:,0:15]=test[:,:,:,:]\n",
        "#Xtrain= np.concatenate((Xtrain, test), axis=3)\n",
        "X.shape"
      ],
      "execution_count": null,
      "outputs": [
        {
          "output_type": "execute_result",
          "data": {
            "text/plain": [
              "(10249, 25, 25, 30)"
            ]
          },
          "metadata": {
            "tags": []
          },
          "execution_count": 20
        }
      ]
    },
    {
      "cell_type": "code",
      "metadata": {
        "id": "Gu3mNMCTa372"
      },
      "source": [
        "#plt.imshow(Xtrain[0,:,:,8,0])\n",
        "#import matplotlib.pyplot as plt\n",
        "#_, axes = plt.subplots(4, 5, figsize=(30,20))\n",
        "#axes = axes.flatten()\n",
        "#for i in range(20):\n",
        "#    axes[i].imshow(X[1000,:,:,i])"
      ],
      "execution_count": null,
      "outputs": []
    },
    {
      "cell_type": "code",
      "metadata": {
        "colab": {
          "base_uri": "https://localhost:8080/"
        },
        "id": "RNR83FeEeqd3",
        "outputId": "b949d7ea-edca-45c3-b213-e434d6987a43"
      },
      "source": [
        "Xtrain, Xtest, ytrain, ytest = splitTrainTestSet(X, y, test_ratio)\n",
        "\n",
        "Xtrain.shape, Xtest.shape, ytrain.shape, ytest.shape"
      ],
      "execution_count": null,
      "outputs": [
        {
          "output_type": "execute_result",
          "data": {
            "text/plain": [
              "((3074, 25, 25, 30), (7175, 25, 25, 30), (3074,), (7175,))"
            ]
          },
          "metadata": {
            "tags": []
          },
          "execution_count": 22
        }
      ]
    },
    {
      "cell_type": "code",
      "metadata": {
        "colab": {
          "base_uri": "https://localhost:8080/"
        },
        "id": "wRe1MaYWewPj",
        "outputId": "5c372ee4-f4ce-4162-e913-585b9c0b48ad"
      },
      "source": [
        "Xtrain = Xtrain.reshape(-1, windowSize, windowSize, 30, 1)\n",
        "Xtrain.shape"
      ],
      "execution_count": null,
      "outputs": [
        {
          "output_type": "execute_result",
          "data": {
            "text/plain": [
              "(3074, 25, 25, 30, 1)"
            ]
          },
          "metadata": {
            "tags": []
          },
          "execution_count": 23
        }
      ]
    },
    {
      "cell_type": "code",
      "metadata": {
        "colab": {
          "base_uri": "https://localhost:8080/"
        },
        "id": "qaly_mgReyzP",
        "outputId": "ec09a92c-b507-4e76-e959-d284661b6976"
      },
      "source": [
        "ytrain = np_utils.to_categorical(ytrain)\n",
        "ytrain.shape"
      ],
      "execution_count": null,
      "outputs": [
        {
          "output_type": "execute_result",
          "data": {
            "text/plain": [
              "(3074, 16)"
            ]
          },
          "metadata": {
            "tags": []
          },
          "execution_count": 24
        }
      ]
    },
    {
      "cell_type": "code",
      "metadata": {
        "id": "1CVh_WiCeyrL"
      },
      "source": [
        "S = windowSize\n",
        "L = 30\n",
        "output_units = 9 if (dataset == 'PU' or dataset == 'PC') else 16"
      ],
      "execution_count": null,
      "outputs": []
    },
    {
      "cell_type": "code",
      "metadata": {
        "colab": {
          "base_uri": "https://localhost:8080/"
        },
        "id": "YETyhUfldgSy",
        "outputId": "d41bb182-f684-4a8a-b297-ee9e6d5c9caf"
      },
      "source": [
        "input_layer = Input((S, S, L,1))\n",
        "print(input_layer)"
      ],
      "execution_count": null,
      "outputs": [
        {
          "output_type": "stream",
          "text": [
            "KerasTensor(type_spec=TensorSpec(shape=(None, 25, 25, 30, 1), dtype=tf.float32, name='input_1'), name='input_1', description=\"created by layer 'input_1'\")\n"
          ],
          "name": "stdout"
        }
      ]
    },
    {
      "cell_type": "code",
      "metadata": {
        "colab": {
          "base_uri": "https://localhost:8080/"
        },
        "id": "zsF6PjsaokaJ",
        "outputId": "abedae88-0c4f-4fbc-c4b2-b46be7e9281e"
      },
      "source": [
        "\n",
        "x_train_1 = Lambda(lambda input_layer: input_layer[:,:,:,0:15,:])(input_layer)\n",
        "x_train_2 = Lambda(lambda input_layer: input_layer[:,:,:,15:30,:])(input_layer)\n",
        "#x_train_3 = Lambda(lambda input_layer: input_layer[:,:,:,30:45,:])(input_layer)\n",
        "print(x_train_1,x_train_2)"
      ],
      "execution_count": null,
      "outputs": [
        {
          "output_type": "stream",
          "text": [
            "KerasTensor(type_spec=TensorSpec(shape=(None, 25, 25, 15, 1), dtype=tf.float32, name=None), name='lambda/strided_slice:0', description=\"created by layer 'lambda'\") KerasTensor(type_spec=TensorSpec(shape=(None, 25, 25, 15, 1), dtype=tf.float32, name=None), name='lambda_1/strided_slice:0', description=\"created by layer 'lambda_1'\")\n"
          ],
          "name": "stdout"
        }
      ]
    },
    {
      "cell_type": "code",
      "metadata": {
        "colab": {
          "base_uri": "https://localhost:8080/"
        },
        "id": "-IMgpAO0dw_x",
        "outputId": "a32d2483-5cee-4d8d-f9a2-2e6c7342f5c1"
      },
      "source": [
        "## convolutional layers\n",
        "conv_layer1_1 = Conv3D(filters=16, kernel_size=(3,3,5),strides=(1,1,1), activation='relu')(x_train_1)\n",
        "\n",
        "\n",
        "conv_layer1_2 = Conv3D(filters=32, kernel_size=(3,3,3),strides=(1,1,2),activation='relu')(conv_layer1_1)\n",
        "\n",
        "\n",
        "#conv_layer1_3 = Conv3D(filters=64, kernel_size=(3,3,3),strides=(1,1,1), activation='relu')(conv_layer1_2)\n",
        "\n",
        "print(conv_layer1_2)"
      ],
      "execution_count": null,
      "outputs": [
        {
          "output_type": "stream",
          "text": [
            "KerasTensor(type_spec=TensorSpec(shape=(None, 21, 21, 5, 32), dtype=tf.float32, name=None), name='conv3d_1/Relu:0', description=\"created by layer 'conv3d_1'\")\n"
          ],
          "name": "stdout"
        }
      ]
    },
    {
      "cell_type": "code",
      "metadata": {
        "colab": {
          "base_uri": "https://localhost:8080/"
        },
        "id": "GQv03bV2qtUA",
        "outputId": "d4b0bc4c-2c7f-4086-cfc4-f1588534572d"
      },
      "source": [
        "## convolutional layers\n",
        "conv_layer2_1 = Conv3D(filters=16, kernel_size=(3,3,5),strides=(1,1,1), activation='relu')(x_train_2)\n",
        "\n",
        "\n",
        "conv_layer2_2 = Conv3D(filters=32, kernel_size=(3,3,3),strides=(1,1,2), activation='relu')(conv_layer2_1)\n",
        "\n",
        "\n",
        "#conv_layer2_3 = Conv3D(filters=64, kernel_size=(3,3,3),strides=(1,1,1), activation='relu')(conv_layer2_2)\n",
        "\n",
        "print(conv_layer2_2)"
      ],
      "execution_count": null,
      "outputs": [
        {
          "output_type": "stream",
          "text": [
            "KerasTensor(type_spec=TensorSpec(shape=(None, 21, 21, 5, 32), dtype=tf.float32, name=None), name='conv3d_3/Relu:0', description=\"created by layer 'conv3d_3'\")\n"
          ],
          "name": "stdout"
        }
      ]
    },
    {
      "cell_type": "code",
      "metadata": {
        "colab": {
          "base_uri": "https://localhost:8080/"
        },
        "id": "idFrfKiyeZPa",
        "outputId": "d544ce5b-b3d6-4412-e3e6-e4706d47889e"
      },
      "source": [
        "#concatinate layer\n",
        "\n",
        "concat_layer4=Concatenate(axis = 3)([ conv_layer2_2, conv_layer1_2])\n",
        "\n",
        "print(concat_layer4)"
      ],
      "execution_count": null,
      "outputs": [
        {
          "output_type": "stream",
          "text": [
            "KerasTensor(type_spec=TensorSpec(shape=(None, 21, 21, 10, 32), dtype=tf.float32, name=None), name='concatenate/concat:0', description=\"created by layer 'concatenate'\")\n"
          ],
          "name": "stdout"
        }
      ]
    },
    {
      "cell_type": "code",
      "metadata": {
        "colab": {
          "base_uri": "https://localhost:8080/"
        },
        "id": "9z2PpYtueh3q",
        "outputId": "c44c8892-dae5-40fa-b31d-7c444b29530e"
      },
      "source": [
        "# convolutional layers\n",
        "conv3d_shape = concat_layer4.shape\n",
        "concat_layer4 = Reshape((conv3d_shape[1], conv3d_shape[2], conv3d_shape[3]*conv3d_shape[4]))(concat_layer4)\n",
        "conv_layer4_1 = Conv2D(filters=64, kernel_size=(3,3), dilation_rate=(2,2),activation='relu')(concat_layer4)\n",
        "#conv_layer4_1 = Conv2D(filters=64, kernel_size=(3,3), activation='relu')(concat_layer4)\n",
        "#conv_layer4_2 = Conv2D(filters=32, kernel_size=(3,3), activation='relu')(conv_layer4_1) #5x5x185\n",
        "#conv_layer3_3 = Conv3D(filters=32, kernel_size=(3,3,3),strides=(1,1,2), activation='relu')(conv_layer3_2) #3x3x92\n",
        "print(conv_layer4_1)\n",
        "#print(conv_layer4_1)\n",
        "#print(conv_layer3_2)\n",
        "#print(conv_layer3_3)"
      ],
      "execution_count": null,
      "outputs": [
        {
          "output_type": "stream",
          "text": [
            "KerasTensor(type_spec=TensorSpec(shape=(None, 17, 17, 64), dtype=tf.float32, name=None), name='conv2d/Relu:0', description=\"created by layer 'conv2d'\")\n"
          ],
          "name": "stdout"
        }
      ]
    },
    {
      "cell_type": "code",
      "metadata": {
        "id": "a7oWVYCIC8gk"
      },
      "source": [
        "#conv3d_shape = conv_layer3_1.shape\n",
        "#concat_layer5 = Reshape((conv3d_shape[1], conv3d_shape[2], conv3d_shape[3]*conv3d_shape[4]))(conv_layer3_1)\n",
        "\n",
        "conv_layer4_2=AveragePooling2D()(conv_layer4_1)"
      ],
      "execution_count": null,
      "outputs": []
    },
    {
      "cell_type": "code",
      "metadata": {
        "id": "35Gp75swemhD"
      },
      "source": [
        "flatten_layer = Flatten()(conv_layer4_2)\n",
        "\n",
        "## fully connected layers\n",
        "\n",
        "dense_layer1 = Dense(units=256, activation='relu')(flatten_layer)\n",
        "dense_layer1 = Dropout(0.4)(dense_layer1)\n",
        "dense_layer2 = Dense(units=128, activation='relu')(dense_layer1)\n",
        "dense_layer2 = Dropout(0.4)(dense_layer2)\n",
        "output_layer = Dense(units=output_units, activation='softmax')(dense_layer2)"
      ],
      "execution_count": null,
      "outputs": []
    },
    {
      "cell_type": "code",
      "metadata": {
        "colab": {
          "base_uri": "https://localhost:8080/"
        },
        "id": "DOvEm87aeyY1",
        "outputId": "cb105f92-db9a-487b-ee72-a9bb105a6a35"
      },
      "source": [
        "# define the model with input layer and output layer\n",
        "model = Model(inputs=input_layer, outputs=output_layer)\n",
        "model.summary()\n"
      ],
      "execution_count": null,
      "outputs": [
        {
          "output_type": "stream",
          "text": [
            "Model: \"model\"\n",
            "__________________________________________________________________________________________________\n",
            "Layer (type)                    Output Shape         Param #     Connected to                     \n",
            "==================================================================================================\n",
            "input_1 (InputLayer)            [(None, 25, 25, 30,  0                                            \n",
            "__________________________________________________________________________________________________\n",
            "lambda_1 (Lambda)               (None, 25, 25, 15, 1 0           input_1[0][0]                    \n",
            "__________________________________________________________________________________________________\n",
            "lambda (Lambda)                 (None, 25, 25, 15, 1 0           input_1[0][0]                    \n",
            "__________________________________________________________________________________________________\n",
            "conv3d_2 (Conv3D)               (None, 23, 23, 11, 1 736         lambda_1[0][0]                   \n",
            "__________________________________________________________________________________________________\n",
            "conv3d (Conv3D)                 (None, 23, 23, 11, 1 736         lambda[0][0]                     \n",
            "__________________________________________________________________________________________________\n",
            "conv3d_3 (Conv3D)               (None, 21, 21, 5, 32 13856       conv3d_2[0][0]                   \n",
            "__________________________________________________________________________________________________\n",
            "conv3d_1 (Conv3D)               (None, 21, 21, 5, 32 13856       conv3d[0][0]                     \n",
            "__________________________________________________________________________________________________\n",
            "concatenate (Concatenate)       (None, 21, 21, 10, 3 0           conv3d_3[0][0]                   \n",
            "                                                                 conv3d_1[0][0]                   \n",
            "__________________________________________________________________________________________________\n",
            "reshape (Reshape)               (None, 21, 21, 320)  0           concatenate[0][0]                \n",
            "__________________________________________________________________________________________________\n",
            "conv2d (Conv2D)                 (None, 17, 17, 64)   184384      reshape[0][0]                    \n",
            "__________________________________________________________________________________________________\n",
            "average_pooling2d (AveragePooli (None, 8, 8, 64)     0           conv2d[0][0]                     \n",
            "__________________________________________________________________________________________________\n",
            "flatten (Flatten)               (None, 4096)         0           average_pooling2d[0][0]          \n",
            "__________________________________________________________________________________________________\n",
            "dense (Dense)                   (None, 256)          1048832     flatten[0][0]                    \n",
            "__________________________________________________________________________________________________\n",
            "dropout (Dropout)               (None, 256)          0           dense[0][0]                      \n",
            "__________________________________________________________________________________________________\n",
            "dense_1 (Dense)                 (None, 128)          32896       dropout[0][0]                    \n",
            "__________________________________________________________________________________________________\n",
            "dropout_1 (Dropout)             (None, 128)          0           dense_1[0][0]                    \n",
            "__________________________________________________________________________________________________\n",
            "dense_2 (Dense)                 (None, 16)           2064        dropout_1[0][0]                  \n",
            "==================================================================================================\n",
            "Total params: 1,297,360\n",
            "Trainable params: 1,297,360\n",
            "Non-trainable params: 0\n",
            "__________________________________________________________________________________________________\n"
          ],
          "name": "stdout"
        }
      ]
    },
    {
      "cell_type": "code",
      "metadata": {
        "id": "2H2P0UGjeyMa"
      },
      "source": [
        "#from keras.utils import plot_model\n",
        "#plot_model(model, to_file='/content/drive/My Drive/Data3/R-3D-CNN_DCT_hog_PU1.png',show_layer_names='False',show_shapes='True') \n",
        "#Plot the model Architecture"
      ],
      "execution_count": null,
      "outputs": []
    },
    {
      "cell_type": "code",
      "metadata": {
        "colab": {
          "base_uri": "https://localhost:8080/",
          "height": 1000
        },
        "id": "jBlwWzH6UXzb",
        "outputId": "a9063562-cda8-4a49-c874-a5c5b5a48432"
      },
      "source": [
        "from IPython.display import SVG\n",
        "from keras.utils.vis_utils import model_to_dot\n",
        "\n",
        "SVG(model_to_dot(model).create(prog='dot', format='svg'))"
      ],
      "execution_count": null,
      "outputs": [
        {
          "output_type": "execute_result",
          "data": {
            "image/svg+xml": "<svg height=\"1325pt\" viewBox=\"0.00 0.00 292.00 994.00\" width=\"389pt\" xmlns=\"http://www.w3.org/2000/svg\" xmlns:xlink=\"http://www.w3.org/1999/xlink\">\n<g class=\"graph\" id=\"graph0\" transform=\"scale(1.3333 1.3333) rotate(0) translate(4 990)\">\n<title>G</title>\n<polygon fill=\"#ffffff\" points=\"-4,4 -4,-990 288,-990 288,4 -4,4\" stroke=\"transparent\"/>\n<!-- 140167004940240 -->\n<g class=\"node\" id=\"node1\">\n<title>140167004940240</title>\n<polygon fill=\"none\" points=\"74,-949.5 74,-985.5 207,-985.5 207,-949.5 74,-949.5\" stroke=\"#000000\"/>\n<text fill=\"#000000\" font-family=\"Times,serif\" font-size=\"14.00\" text-anchor=\"middle\" x=\"140.5\" y=\"-963.8\">input_1: InputLayer</text>\n</g>\n<!-- 140167004973712 -->\n<g class=\"node\" id=\"node2\">\n<title>140167004973712</title>\n<polygon fill=\"none\" points=\"7.5,-876.5 7.5,-912.5 135.5,-912.5 135.5,-876.5 7.5,-876.5\" stroke=\"#000000\"/>\n<text fill=\"#000000\" font-family=\"Times,serif\" font-size=\"14.00\" text-anchor=\"middle\" x=\"71.5\" y=\"-890.8\">lambda_1: Lambda</text>\n</g>\n<!-- 140167004940240&#45;&gt;140167004973712 -->\n<g class=\"edge\" id=\"edge1\">\n<title>140167004940240-&gt;140167004973712</title>\n<path d=\"M123.4438,-949.4551C115.0675,-940.5932 104.8295,-929.7616 95.6638,-920.0646\" fill=\"none\" stroke=\"#000000\"/>\n<polygon fill=\"#000000\" points=\"98.0119,-917.4535 88.5991,-912.5904 92.9247,-922.262 98.0119,-917.4535\" stroke=\"#000000\"/>\n</g>\n<!-- 140167004973776 -->\n<g class=\"node\" id=\"node3\">\n<title>140167004973776</title>\n<polygon fill=\"none\" points=\"155,-876.5 155,-912.5 268,-912.5 268,-876.5 155,-876.5\" stroke=\"#000000\"/>\n<text fill=\"#000000\" font-family=\"Times,serif\" font-size=\"14.00\" text-anchor=\"middle\" x=\"211.5\" y=\"-890.8\">lambda: Lambda</text>\n</g>\n<!-- 140167004940240&#45;&gt;140167004973776 -->\n<g class=\"edge\" id=\"edge2\">\n<title>140167004940240-&gt;140167004973776</title>\n<path d=\"M158.0506,-949.4551C166.755,-940.5054 177.4132,-929.547 186.9156,-919.7769\" fill=\"none\" stroke=\"#000000\"/>\n<polygon fill=\"#000000\" points=\"189.4421,-922.1992 193.9053,-912.5904 184.424,-917.3187 189.4421,-922.1992\" stroke=\"#000000\"/>\n</g>\n<!-- 140166795333136 -->\n<g class=\"node\" id=\"node4\">\n<title>140166795333136</title>\n<polygon fill=\"none\" points=\"3,-803.5 3,-839.5 136,-839.5 136,-803.5 3,-803.5\" stroke=\"#000000\"/>\n<text fill=\"#000000\" font-family=\"Times,serif\" font-size=\"14.00\" text-anchor=\"middle\" x=\"69.5\" y=\"-817.8\">conv3d_2: Conv3D</text>\n</g>\n<!-- 140167004973712&#45;&gt;140166795333136 -->\n<g class=\"edge\" id=\"edge3\">\n<title>140167004973712-&gt;140166795333136</title>\n<path d=\"M71.0056,-876.4551C70.7845,-868.3828 70.5185,-858.6764 70.2721,-849.6817\" fill=\"none\" stroke=\"#000000\"/>\n<polygon fill=\"#000000\" points=\"73.7683,-849.4907 69.9956,-839.5904 66.7709,-849.6825 73.7683,-849.4907\" stroke=\"#000000\"/>\n</g>\n<!-- 140166996436432 -->\n<g class=\"node\" id=\"node5\">\n<title>140166996436432</title>\n<polygon fill=\"none\" points=\"156.5,-803.5 156.5,-839.5 274.5,-839.5 274.5,-803.5 156.5,-803.5\" stroke=\"#000000\"/>\n<text fill=\"#000000\" font-family=\"Times,serif\" font-size=\"14.00\" text-anchor=\"middle\" x=\"215.5\" y=\"-817.8\">conv3d: Conv3D</text>\n</g>\n<!-- 140167004973776&#45;&gt;140166996436432 -->\n<g class=\"edge\" id=\"edge4\">\n<title>140167004973776-&gt;140166996436432</title>\n<path d=\"M212.4888,-876.4551C212.9311,-868.3828 213.4629,-858.6764 213.9558,-849.6817\" fill=\"none\" stroke=\"#000000\"/>\n<polygon fill=\"#000000\" points=\"217.4563,-849.7669 214.5087,-839.5904 210.4668,-849.3839 217.4563,-849.7669\" stroke=\"#000000\"/>\n</g>\n<!-- 140166795333072 -->\n<g class=\"node\" id=\"node6\">\n<title>140166795333072</title>\n<polygon fill=\"none\" points=\"0,-730.5 0,-766.5 133,-766.5 133,-730.5 0,-730.5\" stroke=\"#000000\"/>\n<text fill=\"#000000\" font-family=\"Times,serif\" font-size=\"14.00\" text-anchor=\"middle\" x=\"66.5\" y=\"-744.8\">conv3d_3: Conv3D</text>\n</g>\n<!-- 140166795333136&#45;&gt;140166795333072 -->\n<g class=\"edge\" id=\"edge5\">\n<title>140166795333136-&gt;140166795333072</title>\n<path d=\"M68.7584,-803.4551C68.4267,-795.3828 68.0278,-785.6764 67.6582,-776.6817\" fill=\"none\" stroke=\"#000000\"/>\n<polygon fill=\"#000000\" points=\"71.1512,-776.4382 67.2434,-766.5904 64.1571,-776.7257 71.1512,-776.4382\" stroke=\"#000000\"/>\n</g>\n<!-- 140166996436368 -->\n<g class=\"node\" id=\"node7\">\n<title>140166996436368</title>\n<polygon fill=\"none\" points=\"151,-730.5 151,-766.5 284,-766.5 284,-730.5 151,-730.5\" stroke=\"#000000\"/>\n<text fill=\"#000000\" font-family=\"Times,serif\" font-size=\"14.00\" text-anchor=\"middle\" x=\"217.5\" y=\"-744.8\">conv3d_1: Conv3D</text>\n</g>\n<!-- 140166996436432&#45;&gt;140166996436368 -->\n<g class=\"edge\" id=\"edge6\">\n<title>140166996436432-&gt;140166996436368</title>\n<path d=\"M215.9944,-803.4551C216.2155,-795.3828 216.4815,-785.6764 216.7279,-776.6817\" fill=\"none\" stroke=\"#000000\"/>\n<polygon fill=\"#000000\" points=\"220.2291,-776.6825 217.0044,-766.5904 213.2317,-776.4907 220.2291,-776.6825\" stroke=\"#000000\"/>\n</g>\n<!-- 140166795321872 -->\n<g class=\"node\" id=\"node8\">\n<title>140166795321872</title>\n<polygon fill=\"none\" points=\"61.5,-657.5 61.5,-693.5 221.5,-693.5 221.5,-657.5 61.5,-657.5\" stroke=\"#000000\"/>\n<text fill=\"#000000\" font-family=\"Times,serif\" font-size=\"14.00\" text-anchor=\"middle\" x=\"141.5\" y=\"-671.8\">concatenate: Concatenate</text>\n</g>\n<!-- 140166795333072&#45;&gt;140166795321872 -->\n<g class=\"edge\" id=\"edge7\">\n<title>140166795333072-&gt;140166795321872</title>\n<path d=\"M85.0393,-730.4551C94.2342,-721.5054 105.4928,-710.547 115.5305,-700.7769\" fill=\"none\" stroke=\"#000000\"/>\n<polygon fill=\"#000000\" points=\"118.1892,-703.0734 122.914,-693.5904 113.3068,-698.0572 118.1892,-703.0734\" stroke=\"#000000\"/>\n</g>\n<!-- 140166996436368&#45;&gt;140166795321872 -->\n<g class=\"edge\" id=\"edge8\">\n<title>140166996436368-&gt;140166795321872</title>\n<path d=\"M198.7135,-730.4551C189.3961,-721.5054 177.9873,-710.547 167.8157,-700.7769\" fill=\"none\" stroke=\"#000000\"/>\n<polygon fill=\"#000000\" points=\"169.9704,-697.9935 160.3338,-693.5904 165.1212,-703.0419 169.9704,-697.9935\" stroke=\"#000000\"/>\n</g>\n<!-- 140166794949776 -->\n<g class=\"node\" id=\"node9\">\n<title>140166794949776</title>\n<polygon fill=\"none\" points=\"84,-584.5 84,-620.5 199,-620.5 199,-584.5 84,-584.5\" stroke=\"#000000\"/>\n<text fill=\"#000000\" font-family=\"Times,serif\" font-size=\"14.00\" text-anchor=\"middle\" x=\"141.5\" y=\"-598.8\">reshape: Reshape</text>\n</g>\n<!-- 140166795321872&#45;&gt;140166794949776 -->\n<g class=\"edge\" id=\"edge9\">\n<title>140166795321872-&gt;140166794949776</title>\n<path d=\"M141.5,-657.4551C141.5,-649.3828 141.5,-639.6764 141.5,-630.6817\" fill=\"none\" stroke=\"#000000\"/>\n<polygon fill=\"#000000\" points=\"145.0001,-630.5903 141.5,-620.5904 138.0001,-630.5904 145.0001,-630.5903\" stroke=\"#000000\"/>\n</g>\n<!-- 140166794950864 -->\n<g class=\"node\" id=\"node10\">\n<title>140166794950864</title>\n<polygon fill=\"none\" points=\"82.5,-511.5 82.5,-547.5 200.5,-547.5 200.5,-511.5 82.5,-511.5\" stroke=\"#000000\"/>\n<text fill=\"#000000\" font-family=\"Times,serif\" font-size=\"14.00\" text-anchor=\"middle\" x=\"141.5\" y=\"-525.8\">conv2d: Conv2D</text>\n</g>\n<!-- 140166794949776&#45;&gt;140166794950864 -->\n<g class=\"edge\" id=\"edge10\">\n<title>140166794949776-&gt;140166794950864</title>\n<path d=\"M141.5,-584.4551C141.5,-576.3828 141.5,-566.6764 141.5,-557.6817\" fill=\"none\" stroke=\"#000000\"/>\n<polygon fill=\"#000000\" points=\"145.0001,-557.5903 141.5,-547.5904 138.0001,-557.5904 145.0001,-557.5903\" stroke=\"#000000\"/>\n</g>\n<!-- 140166794948944 -->\n<g class=\"node\" id=\"node11\">\n<title>140166794948944</title>\n<polygon fill=\"none\" points=\"19,-438.5 19,-474.5 264,-474.5 264,-438.5 19,-438.5\" stroke=\"#000000\"/>\n<text fill=\"#000000\" font-family=\"Times,serif\" font-size=\"14.00\" text-anchor=\"middle\" x=\"141.5\" y=\"-452.8\">average_pooling2d: AveragePooling2D</text>\n</g>\n<!-- 140166794950864&#45;&gt;140166794948944 -->\n<g class=\"edge\" id=\"edge11\">\n<title>140166794950864-&gt;140166794948944</title>\n<path d=\"M141.5,-511.4551C141.5,-503.3828 141.5,-493.6764 141.5,-484.6817\" fill=\"none\" stroke=\"#000000\"/>\n<polygon fill=\"#000000\" points=\"145.0001,-484.5903 141.5,-474.5904 138.0001,-484.5904 145.0001,-484.5903\" stroke=\"#000000\"/>\n</g>\n<!-- 140166795332560 -->\n<g class=\"node\" id=\"node12\">\n<title>140166795332560</title>\n<polygon fill=\"none\" points=\"92.5,-365.5 92.5,-401.5 190.5,-401.5 190.5,-365.5 92.5,-365.5\" stroke=\"#000000\"/>\n<text fill=\"#000000\" font-family=\"Times,serif\" font-size=\"14.00\" text-anchor=\"middle\" x=\"141.5\" y=\"-379.8\">flatten: Flatten</text>\n</g>\n<!-- 140166794948944&#45;&gt;140166795332560 -->\n<g class=\"edge\" id=\"edge12\">\n<title>140166794948944-&gt;140166795332560</title>\n<path d=\"M141.5,-438.4551C141.5,-430.3828 141.5,-420.6764 141.5,-411.6817\" fill=\"none\" stroke=\"#000000\"/>\n<polygon fill=\"#000000\" points=\"145.0001,-411.5903 141.5,-401.5904 138.0001,-411.5904 145.0001,-411.5903\" stroke=\"#000000\"/>\n</g>\n<!-- 140166795331984 -->\n<g class=\"node\" id=\"node13\">\n<title>140166795331984</title>\n<polygon fill=\"none\" points=\"95.5,-292.5 95.5,-328.5 187.5,-328.5 187.5,-292.5 95.5,-292.5\" stroke=\"#000000\"/>\n<text fill=\"#000000\" font-family=\"Times,serif\" font-size=\"14.00\" text-anchor=\"middle\" x=\"141.5\" y=\"-306.8\">dense: Dense</text>\n</g>\n<!-- 140166795332560&#45;&gt;140166795331984 -->\n<g class=\"edge\" id=\"edge13\">\n<title>140166795332560-&gt;140166795331984</title>\n<path d=\"M141.5,-365.4551C141.5,-357.3828 141.5,-347.6764 141.5,-338.6817\" fill=\"none\" stroke=\"#000000\"/>\n<polygon fill=\"#000000\" points=\"145.0001,-338.5903 141.5,-328.5904 138.0001,-338.5904 145.0001,-338.5903\" stroke=\"#000000\"/>\n</g>\n<!-- 140166795332048 -->\n<g class=\"node\" id=\"node14\">\n<title>140166795332048</title>\n<polygon fill=\"none\" points=\"82,-219.5 82,-255.5 201,-255.5 201,-219.5 82,-219.5\" stroke=\"#000000\"/>\n<text fill=\"#000000\" font-family=\"Times,serif\" font-size=\"14.00\" text-anchor=\"middle\" x=\"141.5\" y=\"-233.8\">dropout: Dropout</text>\n</g>\n<!-- 140166795331984&#45;&gt;140166795332048 -->\n<g class=\"edge\" id=\"edge14\">\n<title>140166795331984-&gt;140166795332048</title>\n<path d=\"M141.5,-292.4551C141.5,-284.3828 141.5,-274.6764 141.5,-265.6817\" fill=\"none\" stroke=\"#000000\"/>\n<polygon fill=\"#000000\" points=\"145.0001,-265.5903 141.5,-255.5904 138.0001,-265.5904 145.0001,-265.5903\" stroke=\"#000000\"/>\n</g>\n<!-- 140166996401808 -->\n<g class=\"node\" id=\"node15\">\n<title>140166996401808</title>\n<polygon fill=\"none\" points=\"88,-146.5 88,-182.5 195,-182.5 195,-146.5 88,-146.5\" stroke=\"#000000\"/>\n<text fill=\"#000000\" font-family=\"Times,serif\" font-size=\"14.00\" text-anchor=\"middle\" x=\"141.5\" y=\"-160.8\">dense_1: Dense</text>\n</g>\n<!-- 140166795332048&#45;&gt;140166996401808 -->\n<g class=\"edge\" id=\"edge15\">\n<title>140166795332048-&gt;140166996401808</title>\n<path d=\"M141.5,-219.4551C141.5,-211.3828 141.5,-201.6764 141.5,-192.6817\" fill=\"none\" stroke=\"#000000\"/>\n<polygon fill=\"#000000\" points=\"145.0001,-192.5903 141.5,-182.5904 138.0001,-192.5904 145.0001,-192.5903\" stroke=\"#000000\"/>\n</g>\n<!-- 140166996400016 -->\n<g class=\"node\" id=\"node16\">\n<title>140166996400016</title>\n<polygon fill=\"none\" points=\"74.5,-73.5 74.5,-109.5 208.5,-109.5 208.5,-73.5 74.5,-73.5\" stroke=\"#000000\"/>\n<text fill=\"#000000\" font-family=\"Times,serif\" font-size=\"14.00\" text-anchor=\"middle\" x=\"141.5\" y=\"-87.8\">dropout_1: Dropout</text>\n</g>\n<!-- 140166996401808&#45;&gt;140166996400016 -->\n<g class=\"edge\" id=\"edge16\">\n<title>140166996401808-&gt;140166996400016</title>\n<path d=\"M141.5,-146.4551C141.5,-138.3828 141.5,-128.6764 141.5,-119.6817\" fill=\"none\" stroke=\"#000000\"/>\n<polygon fill=\"#000000\" points=\"145.0001,-119.5903 141.5,-109.5904 138.0001,-119.5904 145.0001,-119.5903\" stroke=\"#000000\"/>\n</g>\n<!-- 140166795135824 -->\n<g class=\"node\" id=\"node17\">\n<title>140166795135824</title>\n<polygon fill=\"none\" points=\"88,-.5 88,-36.5 195,-36.5 195,-.5 88,-.5\" stroke=\"#000000\"/>\n<text fill=\"#000000\" font-family=\"Times,serif\" font-size=\"14.00\" text-anchor=\"middle\" x=\"141.5\" y=\"-14.8\">dense_2: Dense</text>\n</g>\n<!-- 140166996400016&#45;&gt;140166795135824 -->\n<g class=\"edge\" id=\"edge17\">\n<title>140166996400016-&gt;140166795135824</title>\n<path d=\"M141.5,-73.4551C141.5,-65.3828 141.5,-55.6764 141.5,-46.6817\" fill=\"none\" stroke=\"#000000\"/>\n<polygon fill=\"#000000\" points=\"145.0001,-46.5903 141.5,-36.5904 138.0001,-46.5904 145.0001,-46.5903\" stroke=\"#000000\"/>\n</g>\n</g>\n</svg>",
            "text/plain": [
              "<IPython.core.display.SVG object>"
            ]
          },
          "metadata": {
            "tags": []
          },
          "execution_count": 36
        }
      ]
    },
    {
      "cell_type": "code",
      "metadata": {
        "colab": {
          "base_uri": "https://localhost:8080/"
        },
        "id": "EszgfAOIex_z",
        "outputId": "09ba8f50-862f-4a3c-b265-aae0132ccef6"
      },
      "source": [
        "# compiling the model\n",
        "adam = Adam(lr=0.001, decay=1e-06)\n",
        "model.compile(loss='categorical_crossentropy', optimizer=adam, metrics=['accuracy'])"
      ],
      "execution_count": null,
      "outputs": [
        {
          "output_type": "stream",
          "text": [
            "/usr/local/lib/python3.7/dist-packages/tensorflow/python/keras/optimizer_v2/optimizer_v2.py:375: UserWarning:\n",
            "\n",
            "The `lr` argument is deprecated, use `learning_rate` instead.\n",
            "\n"
          ],
          "name": "stderr"
        }
      ]
    },
    {
      "cell_type": "code",
      "metadata": {
        "id": "NypePBUXexs5"
      },
      "source": [
        "# checkpoint\n",
        "filepath = \"/content/drive/My Drive/Data3/DCT_HOG_Best-model.hdf5\"\n",
        "checkpoint = ModelCheckpoint(filepath, monitor='accuracy', verbose=1, save_best_only=True, mode='max')\n",
        "callbacks_list = [checkpoint]"
      ],
      "execution_count": null,
      "outputs": []
    },
    {
      "cell_type": "code",
      "metadata": {
        "colab": {
          "base_uri": "https://localhost:8080/"
        },
        "id": "mvJZO7P-oDsz",
        "outputId": "b9f66aeb-1a1e-4de4-e376-800e9d04ce6f"
      },
      "source": [
        "import time\n",
        "start=time.time() #Find Start Time\n",
        "history = model.fit(x=Xtrain, y=ytrain, batch_size=64, epochs=100, callbacks=callbacks_list,validation_split=0.15)\n",
        "end=time.time() #Find End time"
      ],
      "execution_count": null,
      "outputs": [
        {
          "output_type": "stream",
          "text": [
            "Epoch 1/100\n",
            "41/41 [==============================] - 22s 55ms/step - loss: 2.5629 - accuracy: 0.1698 - val_loss: 2.2321 - val_accuracy: 0.2251\n",
            "\n",
            "Epoch 00001: accuracy improved from -inf to 0.20482, saving model to /content/drive/My Drive/Data3/DCT_HOG_Best-model.hdf5\n",
            "Epoch 2/100\n",
            "41/41 [==============================] - 1s 31ms/step - loss: 2.1196 - accuracy: 0.2898 - val_loss: 1.4864 - val_accuracy: 0.4805\n",
            "\n",
            "Epoch 00002: accuracy improved from 0.20482 to 0.33346, saving model to /content/drive/My Drive/Data3/DCT_HOG_Best-model.hdf5\n",
            "Epoch 3/100\n",
            "41/41 [==============================] - 1s 31ms/step - loss: 1.4678 - accuracy: 0.4985 - val_loss: 0.8825 - val_accuracy: 0.7835\n",
            "\n",
            "Epoch 00003: accuracy improved from 0.33346 to 0.53560, saving model to /content/drive/My Drive/Data3/DCT_HOG_Best-model.hdf5\n",
            "Epoch 4/100\n",
            "41/41 [==============================] - 1s 31ms/step - loss: 0.8790 - accuracy: 0.7192 - val_loss: 0.4361 - val_accuracy: 0.8420\n",
            "\n",
            "Epoch 00004: accuracy improved from 0.53560 to 0.76263, saving model to /content/drive/My Drive/Data3/DCT_HOG_Best-model.hdf5\n",
            "Epoch 5/100\n",
            "41/41 [==============================] - 1s 31ms/step - loss: 0.4596 - accuracy: 0.8555 - val_loss: 0.1932 - val_accuracy: 0.9286\n",
            "\n",
            "Epoch 00005: accuracy improved from 0.76263 to 0.86792, saving model to /content/drive/My Drive/Data3/DCT_HOG_Best-model.hdf5\n",
            "Epoch 6/100\n",
            "41/41 [==============================] - 1s 32ms/step - loss: 0.2535 - accuracy: 0.9137 - val_loss: 0.1981 - val_accuracy: 0.9372\n",
            "\n",
            "Epoch 00006: accuracy improved from 0.86792 to 0.91539, saving model to /content/drive/My Drive/Data3/DCT_HOG_Best-model.hdf5\n",
            "Epoch 7/100\n",
            "41/41 [==============================] - 1s 31ms/step - loss: 0.2060 - accuracy: 0.9336 - val_loss: 0.0830 - val_accuracy: 0.9827\n",
            "\n",
            "Epoch 00007: accuracy improved from 0.91539 to 0.94640, saving model to /content/drive/My Drive/Data3/DCT_HOG_Best-model.hdf5\n",
            "Epoch 8/100\n",
            "41/41 [==============================] - 1s 31ms/step - loss: 0.1032 - accuracy: 0.9699 - val_loss: 0.0414 - val_accuracy: 0.9892\n",
            "\n",
            "Epoch 00008: accuracy improved from 0.94640 to 0.96861, saving model to /content/drive/My Drive/Data3/DCT_HOG_Best-model.hdf5\n",
            "Epoch 9/100\n",
            "41/41 [==============================] - 1s 31ms/step - loss: 0.0875 - accuracy: 0.9765 - val_loss: 0.0501 - val_accuracy: 0.9827\n",
            "\n",
            "Epoch 00009: accuracy improved from 0.96861 to 0.97435, saving model to /content/drive/My Drive/Data3/DCT_HOG_Best-model.hdf5\n",
            "Epoch 10/100\n",
            "41/41 [==============================] - 1s 31ms/step - loss: 0.0540 - accuracy: 0.9856 - val_loss: 0.0491 - val_accuracy: 0.9784\n",
            "\n",
            "Epoch 00010: accuracy improved from 0.97435 to 0.98201, saving model to /content/drive/My Drive/Data3/DCT_HOG_Best-model.hdf5\n",
            "Epoch 11/100\n",
            "41/41 [==============================] - 1s 31ms/step - loss: 0.0547 - accuracy: 0.9855 - val_loss: 0.0313 - val_accuracy: 0.9913\n",
            "\n",
            "Epoch 00011: accuracy did not improve from 0.98201\n",
            "Epoch 12/100\n",
            "41/41 [==============================] - 1s 31ms/step - loss: 0.0677 - accuracy: 0.9733 - val_loss: 0.0188 - val_accuracy: 0.9957\n",
            "\n",
            "Epoch 00012: accuracy did not improve from 0.98201\n",
            "Epoch 13/100\n",
            "41/41 [==============================] - 1s 31ms/step - loss: 0.0430 - accuracy: 0.9899 - val_loss: 0.0412 - val_accuracy: 0.9935\n",
            "\n",
            "Epoch 00013: accuracy improved from 0.98201 to 0.98583, saving model to /content/drive/My Drive/Data3/DCT_HOG_Best-model.hdf5\n",
            "Epoch 14/100\n",
            "41/41 [==============================] - 1s 31ms/step - loss: 0.0387 - accuracy: 0.9891 - val_loss: 0.0394 - val_accuracy: 0.9913\n",
            "\n",
            "Epoch 00014: accuracy improved from 0.98583 to 0.98851, saving model to /content/drive/My Drive/Data3/DCT_HOG_Best-model.hdf5\n",
            "Epoch 15/100\n",
            "41/41 [==============================] - 1s 31ms/step - loss: 0.0998 - accuracy: 0.9764 - val_loss: 0.0287 - val_accuracy: 0.9892\n",
            "\n",
            "Epoch 00015: accuracy did not improve from 0.98851\n",
            "Epoch 16/100\n",
            "41/41 [==============================] - 1s 31ms/step - loss: 0.0256 - accuracy: 0.9929 - val_loss: 0.0194 - val_accuracy: 0.9957\n",
            "\n",
            "Epoch 00016: accuracy improved from 0.98851 to 0.99273, saving model to /content/drive/My Drive/Data3/DCT_HOG_Best-model.hdf5\n",
            "Epoch 17/100\n",
            "41/41 [==============================] - 1s 31ms/step - loss: 0.0165 - accuracy: 0.9927 - val_loss: 0.0334 - val_accuracy: 0.9870\n",
            "\n",
            "Epoch 00017: accuracy did not improve from 0.99273\n",
            "Epoch 18/100\n",
            "41/41 [==============================] - 1s 31ms/step - loss: 0.0321 - accuracy: 0.9910 - val_loss: 0.0330 - val_accuracy: 0.9957\n",
            "\n",
            "Epoch 00018: accuracy did not improve from 0.99273\n",
            "Epoch 19/100\n",
            "41/41 [==============================] - 1s 31ms/step - loss: 0.0306 - accuracy: 0.9913 - val_loss: 0.0250 - val_accuracy: 0.9935\n",
            "\n",
            "Epoch 00019: accuracy did not improve from 0.99273\n",
            "Epoch 20/100\n",
            "41/41 [==============================] - 1s 31ms/step - loss: 0.0213 - accuracy: 0.9946 - val_loss: 0.0165 - val_accuracy: 0.9935\n",
            "\n",
            "Epoch 00020: accuracy improved from 0.99273 to 0.99464, saving model to /content/drive/My Drive/Data3/DCT_HOG_Best-model.hdf5\n",
            "Epoch 21/100\n",
            "41/41 [==============================] - 1s 31ms/step - loss: 0.0223 - accuracy: 0.9924 - val_loss: 0.0177 - val_accuracy: 0.9935\n",
            "\n",
            "Epoch 00021: accuracy did not improve from 0.99464\n",
            "Epoch 22/100\n",
            "41/41 [==============================] - 1s 31ms/step - loss: 0.0133 - accuracy: 0.9976 - val_loss: 0.0106 - val_accuracy: 0.9957\n",
            "\n",
            "Epoch 00022: accuracy improved from 0.99464 to 0.99617, saving model to /content/drive/My Drive/Data3/DCT_HOG_Best-model.hdf5\n",
            "Epoch 23/100\n",
            "41/41 [==============================] - 1s 31ms/step - loss: 0.0089 - accuracy: 0.9979 - val_loss: 0.0149 - val_accuracy: 0.9978\n",
            "\n",
            "Epoch 00023: accuracy improved from 0.99617 to 0.99770, saving model to /content/drive/My Drive/Data3/DCT_HOG_Best-model.hdf5\n",
            "Epoch 24/100\n",
            "41/41 [==============================] - 1s 31ms/step - loss: 0.0142 - accuracy: 0.9943 - val_loss: 0.0265 - val_accuracy: 0.9935\n",
            "\n",
            "Epoch 00024: accuracy did not improve from 0.99770\n",
            "Epoch 25/100\n",
            "41/41 [==============================] - 1s 31ms/step - loss: 0.0083 - accuracy: 0.9978 - val_loss: 0.0239 - val_accuracy: 0.9913\n",
            "\n",
            "Epoch 00025: accuracy improved from 0.99770 to 0.99809, saving model to /content/drive/My Drive/Data3/DCT_HOG_Best-model.hdf5\n",
            "Epoch 26/100\n",
            "41/41 [==============================] - 1s 31ms/step - loss: 0.0233 - accuracy: 0.9945 - val_loss: 0.0180 - val_accuracy: 0.9935\n",
            "\n",
            "Epoch 00026: accuracy did not improve from 0.99809\n",
            "Epoch 27/100\n",
            "41/41 [==============================] - 1s 31ms/step - loss: 0.0135 - accuracy: 0.9969 - val_loss: 0.0168 - val_accuracy: 0.9913\n",
            "\n",
            "Epoch 00027: accuracy did not improve from 0.99809\n",
            "Epoch 28/100\n",
            "41/41 [==============================] - 1s 31ms/step - loss: 0.0071 - accuracy: 0.9982 - val_loss: 0.0122 - val_accuracy: 0.9913\n",
            "\n",
            "Epoch 00028: accuracy did not improve from 0.99809\n",
            "Epoch 29/100\n",
            "41/41 [==============================] - 1s 31ms/step - loss: 0.0058 - accuracy: 0.9981 - val_loss: 0.0181 - val_accuracy: 0.9935\n",
            "\n",
            "Epoch 00029: accuracy did not improve from 0.99809\n",
            "Epoch 30/100\n",
            "41/41 [==============================] - 1s 31ms/step - loss: 0.0057 - accuracy: 0.9973 - val_loss: 0.0268 - val_accuracy: 0.9957\n",
            "\n",
            "Epoch 00030: accuracy did not improve from 0.99809\n",
            "Epoch 31/100\n",
            "41/41 [==============================] - 1s 31ms/step - loss: 0.0070 - accuracy: 0.9982 - val_loss: 0.0043 - val_accuracy: 0.9978\n",
            "\n",
            "Epoch 00031: accuracy did not improve from 0.99809\n",
            "Epoch 32/100\n",
            "41/41 [==============================] - 1s 31ms/step - loss: 0.0073 - accuracy: 0.9971 - val_loss: 0.0350 - val_accuracy: 0.9957\n",
            "\n",
            "Epoch 00032: accuracy did not improve from 0.99809\n",
            "Epoch 33/100\n",
            "41/41 [==============================] - 1s 31ms/step - loss: 0.0119 - accuracy: 0.9970 - val_loss: 0.1102 - val_accuracy: 0.9848\n",
            "\n",
            "Epoch 00033: accuracy did not improve from 0.99809\n",
            "Epoch 34/100\n",
            "41/41 [==============================] - 1s 31ms/step - loss: 0.0275 - accuracy: 0.9933 - val_loss: 0.0176 - val_accuracy: 0.9935\n",
            "\n",
            "Epoch 00034: accuracy did not improve from 0.99809\n",
            "Epoch 35/100\n",
            "41/41 [==============================] - 1s 31ms/step - loss: 0.0085 - accuracy: 0.9977 - val_loss: 0.0173 - val_accuracy: 0.9957\n",
            "\n",
            "Epoch 00035: accuracy did not improve from 0.99809\n",
            "Epoch 36/100\n",
            "41/41 [==============================] - 1s 31ms/step - loss: 0.0261 - accuracy: 0.9953 - val_loss: 0.0183 - val_accuracy: 0.9935\n",
            "\n",
            "Epoch 00036: accuracy did not improve from 0.99809\n",
            "Epoch 37/100\n",
            "41/41 [==============================] - 1s 31ms/step - loss: 0.0091 - accuracy: 0.9963 - val_loss: 0.0292 - val_accuracy: 0.9935\n",
            "\n",
            "Epoch 00037: accuracy did not improve from 0.99809\n",
            "Epoch 38/100\n",
            "41/41 [==============================] - 1s 31ms/step - loss: 0.0161 - accuracy: 0.9941 - val_loss: 0.0219 - val_accuracy: 0.9870\n",
            "\n",
            "Epoch 00038: accuracy did not improve from 0.99809\n",
            "Epoch 39/100\n",
            "41/41 [==============================] - 1s 31ms/step - loss: 0.0136 - accuracy: 0.9974 - val_loss: 0.0322 - val_accuracy: 0.9957\n",
            "\n",
            "Epoch 00039: accuracy did not improve from 0.99809\n",
            "Epoch 40/100\n",
            "41/41 [==============================] - 1s 31ms/step - loss: 0.0112 - accuracy: 0.9967 - val_loss: 0.0354 - val_accuracy: 0.9892\n",
            "\n",
            "Epoch 00040: accuracy did not improve from 0.99809\n",
            "Epoch 41/100\n",
            "41/41 [==============================] - 1s 31ms/step - loss: 0.0124 - accuracy: 0.9959 - val_loss: 0.0057 - val_accuracy: 0.9978\n",
            "\n",
            "Epoch 00041: accuracy did not improve from 0.99809\n",
            "Epoch 42/100\n",
            "41/41 [==============================] - 1s 31ms/step - loss: 0.0059 - accuracy: 0.9983 - val_loss: 0.0275 - val_accuracy: 0.9913\n",
            "\n",
            "Epoch 00042: accuracy did not improve from 0.99809\n",
            "Epoch 43/100\n",
            "41/41 [==============================] - 1s 32ms/step - loss: 0.0090 - accuracy: 0.9968 - val_loss: 0.0657 - val_accuracy: 0.9848\n",
            "\n",
            "Epoch 00043: accuracy did not improve from 0.99809\n",
            "Epoch 44/100\n",
            "41/41 [==============================] - 1s 31ms/step - loss: 0.0144 - accuracy: 0.9964 - val_loss: 0.0144 - val_accuracy: 0.9978\n",
            "\n",
            "Epoch 00044: accuracy did not improve from 0.99809\n",
            "Epoch 45/100\n",
            "41/41 [==============================] - 1s 31ms/step - loss: 0.0243 - accuracy: 0.9929 - val_loss: 0.0157 - val_accuracy: 0.9935\n",
            "\n",
            "Epoch 00045: accuracy did not improve from 0.99809\n",
            "Epoch 46/100\n",
            "41/41 [==============================] - 1s 31ms/step - loss: 0.0138 - accuracy: 0.9973 - val_loss: 0.0309 - val_accuracy: 0.9935\n",
            "\n",
            "Epoch 00046: accuracy did not improve from 0.99809\n",
            "Epoch 47/100\n",
            "41/41 [==============================] - 1s 32ms/step - loss: 0.0038 - accuracy: 0.9990 - val_loss: 0.0322 - val_accuracy: 0.9913\n",
            "\n",
            "Epoch 00047: accuracy improved from 0.99809 to 0.99847, saving model to /content/drive/My Drive/Data3/DCT_HOG_Best-model.hdf5\n",
            "Epoch 48/100\n",
            "41/41 [==============================] - 1s 31ms/step - loss: 0.0106 - accuracy: 0.9977 - val_loss: 0.0127 - val_accuracy: 0.9957\n",
            "\n",
            "Epoch 00048: accuracy did not improve from 0.99847\n",
            "Epoch 49/100\n",
            "41/41 [==============================] - 1s 31ms/step - loss: 0.0106 - accuracy: 0.9978 - val_loss: 0.0344 - val_accuracy: 0.9935\n",
            "\n",
            "Epoch 00049: accuracy did not improve from 0.99847\n",
            "Epoch 50/100\n",
            "41/41 [==============================] - 1s 31ms/step - loss: 0.0022 - accuracy: 0.9999 - val_loss: 0.0439 - val_accuracy: 0.9935\n",
            "\n",
            "Epoch 00050: accuracy improved from 0.99847 to 0.99962, saving model to /content/drive/My Drive/Data3/DCT_HOG_Best-model.hdf5\n",
            "Epoch 51/100\n",
            "41/41 [==============================] - 1s 31ms/step - loss: 0.0047 - accuracy: 0.9992 - val_loss: 0.0330 - val_accuracy: 0.9957\n",
            "\n",
            "Epoch 00051: accuracy did not improve from 0.99962\n",
            "Epoch 52/100\n",
            "41/41 [==============================] - 1s 31ms/step - loss: 0.0067 - accuracy: 0.9968 - val_loss: 0.0348 - val_accuracy: 0.9935\n",
            "\n",
            "Epoch 00052: accuracy did not improve from 0.99962\n",
            "Epoch 53/100\n",
            "41/41 [==============================] - 1s 31ms/step - loss: 0.0019 - accuracy: 1.0000 - val_loss: 0.0287 - val_accuracy: 0.9957\n",
            "\n",
            "Epoch 00053: accuracy did not improve from 0.99962\n",
            "Epoch 54/100\n",
            "41/41 [==============================] - 1s 31ms/step - loss: 0.0044 - accuracy: 0.9992 - val_loss: 0.0137 - val_accuracy: 0.9978\n",
            "\n",
            "Epoch 00054: accuracy did not improve from 0.99962\n",
            "Epoch 55/100\n",
            "41/41 [==============================] - 1s 31ms/step - loss: 0.0085 - accuracy: 0.9979 - val_loss: 0.0162 - val_accuracy: 0.9935\n",
            "\n",
            "Epoch 00055: accuracy did not improve from 0.99962\n",
            "Epoch 56/100\n",
            "41/41 [==============================] - 1s 31ms/step - loss: 0.0021 - accuracy: 0.9992 - val_loss: 0.0184 - val_accuracy: 0.9957\n",
            "\n",
            "Epoch 00056: accuracy did not improve from 0.99962\n",
            "Epoch 57/100\n",
            "41/41 [==============================] - 1s 31ms/step - loss: 0.0051 - accuracy: 0.9990 - val_loss: 0.0233 - val_accuracy: 0.9935\n",
            "\n",
            "Epoch 00057: accuracy did not improve from 0.99962\n",
            "Epoch 58/100\n",
            "41/41 [==============================] - 1s 32ms/step - loss: 0.0078 - accuracy: 0.9979 - val_loss: 0.0169 - val_accuracy: 0.9978\n",
            "\n",
            "Epoch 00058: accuracy did not improve from 0.99962\n",
            "Epoch 59/100\n",
            "41/41 [==============================] - 1s 31ms/step - loss: 0.0028 - accuracy: 0.9992 - val_loss: 0.0131 - val_accuracy: 0.9978\n",
            "\n",
            "Epoch 00059: accuracy did not improve from 0.99962\n",
            "Epoch 60/100\n",
            "41/41 [==============================] - 1s 31ms/step - loss: 0.0040 - accuracy: 0.9991 - val_loss: 0.0205 - val_accuracy: 0.9957\n",
            "\n",
            "Epoch 00060: accuracy did not improve from 0.99962\n",
            "Epoch 61/100\n",
            "41/41 [==============================] - 1s 31ms/step - loss: 0.0025 - accuracy: 0.9992 - val_loss: 0.0293 - val_accuracy: 0.9913\n",
            "\n",
            "Epoch 00061: accuracy did not improve from 0.99962\n",
            "Epoch 62/100\n",
            "41/41 [==============================] - 1s 31ms/step - loss: 0.0077 - accuracy: 0.9991 - val_loss: 0.0171 - val_accuracy: 0.9913\n",
            "\n",
            "Epoch 00062: accuracy did not improve from 0.99962\n",
            "Epoch 63/100\n",
            "41/41 [==============================] - 1s 31ms/step - loss: 0.0102 - accuracy: 0.9973 - val_loss: 0.0275 - val_accuracy: 0.9935\n",
            "\n",
            "Epoch 00063: accuracy did not improve from 0.99962\n",
            "Epoch 64/100\n",
            "41/41 [==============================] - 1s 32ms/step - loss: 0.0086 - accuracy: 0.9977 - val_loss: 0.0255 - val_accuracy: 0.9957\n",
            "\n",
            "Epoch 00064: accuracy did not improve from 0.99962\n",
            "Epoch 65/100\n",
            "41/41 [==============================] - 1s 32ms/step - loss: 0.0016 - accuracy: 0.9997 - val_loss: 0.0158 - val_accuracy: 0.9957\n",
            "\n",
            "Epoch 00065: accuracy did not improve from 0.99962\n",
            "Epoch 66/100\n",
            "41/41 [==============================] - 1s 31ms/step - loss: 0.0024 - accuracy: 0.9996 - val_loss: 0.0392 - val_accuracy: 0.9935\n",
            "\n",
            "Epoch 00066: accuracy did not improve from 0.99962\n",
            "Epoch 67/100\n",
            "41/41 [==============================] - 1s 31ms/step - loss: 0.0084 - accuracy: 0.9968 - val_loss: 0.0237 - val_accuracy: 0.9957\n",
            "\n",
            "Epoch 00067: accuracy did not improve from 0.99962\n",
            "Epoch 68/100\n",
            "41/41 [==============================] - 1s 31ms/step - loss: 0.0367 - accuracy: 0.9904 - val_loss: 0.0745 - val_accuracy: 0.9913\n",
            "\n",
            "Epoch 00068: accuracy did not improve from 0.99962\n",
            "Epoch 69/100\n",
            "41/41 [==============================] - 1s 31ms/step - loss: 0.0326 - accuracy: 0.9945 - val_loss: 0.0179 - val_accuracy: 0.9913\n",
            "\n",
            "Epoch 00069: accuracy did not improve from 0.99962\n",
            "Epoch 70/100\n",
            "41/41 [==============================] - 1s 31ms/step - loss: 0.0125 - accuracy: 0.9953 - val_loss: 0.0141 - val_accuracy: 0.9957\n",
            "\n",
            "Epoch 00070: accuracy did not improve from 0.99962\n",
            "Epoch 71/100\n",
            "41/41 [==============================] - 1s 31ms/step - loss: 0.0114 - accuracy: 0.9959 - val_loss: 0.0400 - val_accuracy: 0.9892\n",
            "\n",
            "Epoch 00071: accuracy did not improve from 0.99962\n",
            "Epoch 72/100\n",
            "41/41 [==============================] - 1s 31ms/step - loss: 0.0079 - accuracy: 0.9971 - val_loss: 0.0043 - val_accuracy: 0.9978\n",
            "\n",
            "Epoch 00072: accuracy did not improve from 0.99962\n",
            "Epoch 73/100\n",
            "41/41 [==============================] - 1s 31ms/step - loss: 0.0082 - accuracy: 0.9976 - val_loss: 0.0276 - val_accuracy: 0.9935\n",
            "\n",
            "Epoch 00073: accuracy did not improve from 0.99962\n",
            "Epoch 74/100\n",
            "41/41 [==============================] - 1s 31ms/step - loss: 0.0173 - accuracy: 0.9930 - val_loss: 0.0169 - val_accuracy: 0.9935\n",
            "\n",
            "Epoch 00074: accuracy did not improve from 0.99962\n",
            "Epoch 75/100\n",
            "41/41 [==============================] - 1s 31ms/step - loss: 0.0059 - accuracy: 0.9982 - val_loss: 0.0147 - val_accuracy: 0.9957\n",
            "\n",
            "Epoch 00075: accuracy did not improve from 0.99962\n",
            "Epoch 76/100\n",
            "41/41 [==============================] - 1s 31ms/step - loss: 0.0064 - accuracy: 0.9975 - val_loss: 0.0868 - val_accuracy: 0.9892\n",
            "\n",
            "Epoch 00076: accuracy did not improve from 0.99962\n",
            "Epoch 77/100\n",
            "41/41 [==============================] - 1s 31ms/step - loss: 0.0081 - accuracy: 0.9975 - val_loss: 0.0036 - val_accuracy: 0.9978\n",
            "\n",
            "Epoch 00077: accuracy did not improve from 0.99962\n",
            "Epoch 78/100\n",
            "41/41 [==============================] - 1s 31ms/step - loss: 0.0209 - accuracy: 0.9960 - val_loss: 0.0153 - val_accuracy: 0.9978\n",
            "\n",
            "Epoch 00078: accuracy did not improve from 0.99962\n",
            "Epoch 79/100\n",
            "41/41 [==============================] - 1s 31ms/step - loss: 0.0228 - accuracy: 0.9957 - val_loss: 0.0283 - val_accuracy: 0.9935\n",
            "\n",
            "Epoch 00079: accuracy did not improve from 0.99962\n",
            "Epoch 80/100\n",
            "41/41 [==============================] - 1s 31ms/step - loss: 0.0095 - accuracy: 0.9971 - val_loss: 0.0059 - val_accuracy: 0.9978\n",
            "\n",
            "Epoch 00080: accuracy did not improve from 0.99962\n",
            "Epoch 81/100\n",
            "41/41 [==============================] - 1s 31ms/step - loss: 0.0057 - accuracy: 0.9991 - val_loss: 0.0020 - val_accuracy: 1.0000\n",
            "\n",
            "Epoch 00081: accuracy did not improve from 0.99962\n",
            "Epoch 82/100\n",
            "41/41 [==============================] - 1s 32ms/step - loss: 6.5997e-04 - accuracy: 1.0000 - val_loss: 0.0056 - val_accuracy: 0.9978\n",
            "\n",
            "Epoch 00082: accuracy improved from 0.99962 to 1.00000, saving model to /content/drive/My Drive/Data3/DCT_HOG_Best-model.hdf5\n",
            "Epoch 83/100\n",
            "41/41 [==============================] - 1s 31ms/step - loss: 0.0020 - accuracy: 0.9994 - val_loss: 0.0048 - val_accuracy: 0.9978\n",
            "\n",
            "Epoch 00083: accuracy did not improve from 1.00000\n",
            "Epoch 84/100\n",
            "41/41 [==============================] - 1s 31ms/step - loss: 0.0016 - accuracy: 1.0000 - val_loss: 0.0054 - val_accuracy: 0.9978\n",
            "\n",
            "Epoch 00084: accuracy did not improve from 1.00000\n",
            "Epoch 85/100\n",
            "41/41 [==============================] - 1s 31ms/step - loss: 0.0013 - accuracy: 1.0000 - val_loss: 0.0046 - val_accuracy: 0.9978\n",
            "\n",
            "Epoch 00085: accuracy did not improve from 1.00000\n",
            "Epoch 86/100\n",
            "41/41 [==============================] - 1s 31ms/step - loss: 9.2817e-04 - accuracy: 1.0000 - val_loss: 0.0039 - val_accuracy: 0.9978\n",
            "\n",
            "Epoch 00086: accuracy did not improve from 1.00000\n",
            "Epoch 87/100\n",
            "41/41 [==============================] - 1s 31ms/step - loss: 0.0023 - accuracy: 0.9989 - val_loss: 0.0080 - val_accuracy: 0.9957\n",
            "\n",
            "Epoch 00087: accuracy did not improve from 1.00000\n",
            "Epoch 88/100\n",
            "41/41 [==============================] - 1s 31ms/step - loss: 0.0025 - accuracy: 0.9986 - val_loss: 0.0066 - val_accuracy: 0.9978\n",
            "\n",
            "Epoch 00088: accuracy did not improve from 1.00000\n",
            "Epoch 89/100\n",
            "41/41 [==============================] - 1s 31ms/step - loss: 0.0032 - accuracy: 0.9980 - val_loss: 0.0051 - val_accuracy: 1.0000\n",
            "\n",
            "Epoch 00089: accuracy did not improve from 1.00000\n",
            "Epoch 90/100\n",
            "41/41 [==============================] - 1s 32ms/step - loss: 0.0056 - accuracy: 0.9987 - val_loss: 0.0031 - val_accuracy: 1.0000\n",
            "\n",
            "Epoch 00090: accuracy did not improve from 1.00000\n",
            "Epoch 91/100\n",
            "41/41 [==============================] - 1s 31ms/step - loss: 4.4859e-04 - accuracy: 1.0000 - val_loss: 0.0037 - val_accuracy: 1.0000\n",
            "\n",
            "Epoch 00091: accuracy did not improve from 1.00000\n",
            "Epoch 92/100\n",
            "41/41 [==============================] - 1s 32ms/step - loss: 0.0064 - accuracy: 0.9981 - val_loss: 0.0226 - val_accuracy: 0.9957\n",
            "\n",
            "Epoch 00092: accuracy did not improve from 1.00000\n",
            "Epoch 93/100\n",
            "41/41 [==============================] - 1s 31ms/step - loss: 0.0012 - accuracy: 0.9996 - val_loss: 0.0121 - val_accuracy: 0.9957\n",
            "\n",
            "Epoch 00093: accuracy did not improve from 1.00000\n",
            "Epoch 94/100\n",
            "41/41 [==============================] - 1s 31ms/step - loss: 0.0011 - accuracy: 0.9999 - val_loss: 0.0170 - val_accuracy: 0.9957\n",
            "\n",
            "Epoch 00094: accuracy did not improve from 1.00000\n",
            "Epoch 95/100\n",
            "41/41 [==============================] - 1s 31ms/step - loss: 8.0272e-04 - accuracy: 0.9999 - val_loss: 0.0068 - val_accuracy: 0.9978\n",
            "\n",
            "Epoch 00095: accuracy did not improve from 1.00000\n",
            "Epoch 96/100\n",
            "41/41 [==============================] - 1s 31ms/step - loss: 0.0013 - accuracy: 0.9997 - val_loss: 0.0026 - val_accuracy: 0.9978\n",
            "\n",
            "Epoch 00096: accuracy did not improve from 1.00000\n",
            "Epoch 97/100\n",
            "41/41 [==============================] - 1s 31ms/step - loss: 0.0116 - accuracy: 0.9972 - val_loss: 0.0036 - val_accuracy: 1.0000\n",
            "\n",
            "Epoch 00097: accuracy did not improve from 1.00000\n",
            "Epoch 98/100\n",
            "41/41 [==============================] - 1s 32ms/step - loss: 0.0022 - accuracy: 1.0000 - val_loss: 0.0067 - val_accuracy: 0.9978\n",
            "\n",
            "Epoch 00098: accuracy did not improve from 1.00000\n",
            "Epoch 99/100\n",
            "41/41 [==============================] - 1s 31ms/step - loss: 5.6952e-04 - accuracy: 0.9998 - val_loss: 0.0039 - val_accuracy: 0.9978\n",
            "\n",
            "Epoch 00099: accuracy did not improve from 1.00000\n",
            "Epoch 100/100\n",
            "41/41 [==============================] - 1s 31ms/step - loss: 0.0049 - accuracy: 0.9984 - val_loss: 0.0067 - val_accuracy: 0.9978\n",
            "\n",
            "Epoch 00100: accuracy did not improve from 1.00000\n"
          ],
          "name": "stdout"
        }
      ]
    },
    {
      "cell_type": "code",
      "metadata": {
        "id": "AdecqsproJ_z"
      },
      "source": [
        "# load best weights\n",
        "model.load_weights(\"/content/drive/My Drive/Data3/DCT_HOG_Best-model.hdf5\")\n",
        "model.compile(loss='categorical_crossentropy', optimizer=adam, metrics=['accuracy'])"
      ],
      "execution_count": null,
      "outputs": []
    },
    {
      "cell_type": "code",
      "metadata": {
        "colab": {
          "base_uri": "https://localhost:8080/"
        },
        "id": "i7VP40mZoSjw",
        "outputId": "e00d9857-7cd2-46a1-ddfe-204c98ddce7b"
      },
      "source": [
        "Xtest = Xtest.reshape(-1, windowSize, windowSize, 30, 1)\n",
        "Xtest.shape"
      ],
      "execution_count": null,
      "outputs": [
        {
          "output_type": "execute_result",
          "data": {
            "text/plain": [
              "(7175, 25, 25, 30, 1)"
            ]
          },
          "metadata": {
            "tags": []
          },
          "execution_count": 41
        }
      ]
    },
    {
      "cell_type": "code",
      "metadata": {
        "colab": {
          "base_uri": "https://localhost:8080/"
        },
        "id": "TfO4_d-ooShv",
        "outputId": "e6b74c15-4765-4a23-a509-01cbe0f17504"
      },
      "source": [
        "ytest = np_utils.to_categorical(ytest)\n",
        "ytest.shape"
      ],
      "execution_count": null,
      "outputs": [
        {
          "output_type": "execute_result",
          "data": {
            "text/plain": [
              "(7175, 16)"
            ]
          },
          "metadata": {
            "tags": []
          },
          "execution_count": 42
        }
      ]
    },
    {
      "cell_type": "code",
      "metadata": {
        "colab": {
          "base_uri": "https://localhost:8080/"
        },
        "id": "lM3tUsQhoSga",
        "outputId": "78595994-2e9f-4c91-d381-1f830729d2dd"
      },
      "source": [
        "Y_pred_test = model.predict(Xtest)\n",
        "y_pred_test = np.argmax(Y_pred_test, axis=1)\n",
        "\n",
        "classification = classification_report(np.argmax(ytest, axis=1), y_pred_test)\n",
        "print(classification)"
      ],
      "execution_count": null,
      "outputs": [
        {
          "output_type": "stream",
          "text": [
            "              precision    recall  f1-score   support\n",
            "\n",
            "           0       1.00      1.00      1.00        32\n",
            "           1       0.99      1.00      0.99      1000\n",
            "           2       0.99      0.99      0.99       581\n",
            "           3       0.97      1.00      0.99       166\n",
            "           4       0.99      0.99      0.99       338\n",
            "           5       0.99      1.00      0.99       511\n",
            "           6       1.00      0.90      0.95        20\n",
            "           7       1.00      1.00      1.00       335\n",
            "           8       1.00      1.00      1.00        14\n",
            "           9       1.00      0.99      1.00       680\n",
            "          10       1.00      0.99      1.00      1719\n",
            "          11       1.00      0.99      1.00       415\n",
            "          12       1.00      0.99      1.00       143\n",
            "          13       1.00      1.00      1.00       886\n",
            "          14       1.00      1.00      1.00       270\n",
            "          15       0.98      1.00      0.99        65\n",
            "\n",
            "    accuracy                           0.99      7175\n",
            "   macro avg       0.99      0.99      0.99      7175\n",
            "weighted avg       1.00      0.99      0.99      7175\n",
            "\n"
          ],
          "name": "stdout"
        }
      ]
    },
    {
      "cell_type": "code",
      "metadata": {
        "id": "E29o5A9VoSej"
      },
      "source": [
        "def AA_andEachClassAccuracy(confusion_matrix):\n",
        "    counter = confusion_matrix.shape[0]\n",
        "    list_diag = np.diag(confusion_matrix)\n",
        "    list_raw_sum = np.sum(confusion_matrix, axis=1)\n",
        "    each_acc = np.nan_to_num(truediv(list_diag, list_raw_sum))\n",
        "    average_acc = np.mean(each_acc)\n",
        "    return each_acc, average_acc"
      ],
      "execution_count": null,
      "outputs": []
    },
    {
      "cell_type": "code",
      "metadata": {
        "id": "-LfzjejeoSar"
      },
      "source": [
        "def reports (X_test,y_test,name):\n",
        "    start2 = time.time()\n",
        "    Y_pred = model.predict(X_test)\n",
        "    y_pred = np.argmax(Y_pred, axis=1)\n",
        "    end2 = time.time()\n",
        "    print(end2 - start2)\n",
        "    if name == 'IP':\n",
        "        target_names = ['Alfalfa', 'Corn-notill', 'Corn-mintill', 'Corn'\n",
        "                        ,'Grass-pasture', 'Grass-trees', 'Grass-pasture-mowed', \n",
        "                        'Hay-windrowed', 'Oats', 'Soybean-notill', 'Soybean-mintill',\n",
        "                        'Soybean-clean', 'Wheat', 'Woods', 'Buildings-Grass-Trees-Drives',\n",
        "                        'Stone-Steel-Towers']\n",
        "    elif name == 'SA':\n",
        "        target_names = ['Brocoli_green_weeds_1','Brocoli_green_weeds_2','Fallow','Fallow_rough_plow','Fallow_smooth',\n",
        "                        'Stubble','Celery','Grapes_untrained','Soil_vinyard_develop','Corn_senesced_green_weeds',\n",
        "                        'Lettuce_romaine_4wk','Lettuce_romaine_5wk','Lettuce_romaine_6wk','Lettuce_romaine_7wk',\n",
        "                        'Vinyard_untrained','Vinyard_vertical_trellis']\n",
        "    elif name == 'PU':\n",
        "        target_names = ['Asphalt','Meadows','Gravel','Trees', 'Painted metal sheets','Bare Soil','Bitumen',\n",
        "                        'Self-Blocking Bricks','Shadows']\n",
        "    \n",
        "    classification = classification_report(np.argmax(y_test, axis=1), y_pred, target_names=target_names)\n",
        "    oa = accuracy_score(np.argmax(y_test, axis=1), y_pred)\n",
        "    confusion = confusion_matrix(np.argmax(y_test, axis=1), y_pred)\n",
        "    each_acc, aa = AA_andEachClassAccuracy(confusion)\n",
        "    kappa = cohen_kappa_score(np.argmax(y_test, axis=1), y_pred)\n",
        "    score = model.evaluate(X_test, y_test, batch_size=32)\n",
        "    Test_Loss =  score[0]*100\n",
        "    Test_accuracy = score[1]*100\n",
        "    \n",
        "    return classification, confusion, Test_Loss, Test_accuracy, oa*100, each_acc*100, aa*100, kappa*100"
      ],
      "execution_count": null,
      "outputs": []
    },
    {
      "cell_type": "code",
      "metadata": {
        "colab": {
          "base_uri": "https://localhost:8080/"
        },
        "id": "IV9nZnzAoSZL",
        "outputId": "4868b0e0-81c9-4e92-afbc-c0cf90fe55ff"
      },
      "source": [
        "classification, confusion, Test_loss, Test_accuracy, oa, each_acc, aa, kappa = reports(Xtest,ytest,dataset)\n",
        "classification = str(classification)\n",
        "confusion = str(confusion)\n",
        "file_name = \"/content/drive/My Drive/Data3/DCT_HOG_classification_report.txt\"\n",
        "\n",
        "with open(file_name, 'w') as x_file:\n",
        "    x_file.write('{} Test loss (%)'.format(Test_loss))\n",
        "    x_file.write('\\n')\n",
        "    x_file.write('{} Test accuracy (%)'.format(Test_accuracy))\n",
        "    x_file.write('\\n')\n",
        "    x_file.write('\\n')\n",
        "    x_file.write('{} Kappa accuracy (%)'.format(kappa))\n",
        "    x_file.write('\\n')\n",
        "    x_file.write('{} Overall accuracy (%)'.format(oa))\n",
        "    x_file.write('\\n')\n",
        "    x_file.write('{} Average accuracy (%)'.format(aa))\n",
        "    x_file.write('\\n')\n",
        "    x_file.write('\\n')\n",
        "    x_file.write('{}'.format(classification))\n",
        "    x_file.write('\\n')\n",
        "    x_file.write('{}'.format(confusion))\n",
        "    x_file.write('\\n')\n",
        "    x_file.write('Time taken for training: {:.2f}s'.format(end-start))"
      ],
      "execution_count": null,
      "outputs": [
        {
          "output_type": "stream",
          "text": [
            "1.2080481052398682\n",
            "225/225 [==============================] - 3s 6ms/step - loss: 0.0233 - accuracy: 0.9946\n"
          ],
          "name": "stdout"
        }
      ]
    },
    {
      "cell_type": "code",
      "metadata": {
        "colab": {
          "base_uri": "https://localhost:8080/",
          "height": 442
        },
        "id": "1lQCafwJ-uT9",
        "outputId": "b33d4e4d-62c0-45de-ce5b-cfe0847d7a37"
      },
      "source": [
        "plt.figure(figsize=(7,7))\n",
        "plt.ylim(0,1.1)\n",
        "plt.grid()\n",
        "plt.plot(history.history['accuracy'])\n",
        "plt.plot(history.history['val_accuracy'])\n",
        "plt.plot(history.history['loss'])\n",
        "plt.plot(history.history['val_loss'])\n",
        "plt.ylabel('Accuracy/loss')\n",
        "plt.xlabel('Epochs')\n",
        "plt.legend(['Training','Validation','loss','val_loss'])\n",
        "plt.savefig(\"/content/drive/My Drive/Data3/acc_curve_main_GPU.pdf\")\n",
        "plt.show()"
      ],
      "execution_count": null,
      "outputs": [
        {
          "output_type": "display_data",
          "data": {
            "image/png": "[encoded data removed]",
            "text/plain": [
              "<Figure size 504x504 with 1 Axes>"
            ]
          },
          "metadata": {
            "tags": []
          }
        }
      ]
    },
    {
      "cell_type": "code",
      "metadata": {
        "colab": {
          "base_uri": "https://localhost:8080/",
          "height": 442
        },
        "id": "lvPY5UCnEEOj",
        "outputId": "213122f9-8257-404a-95a4-e00a8538dfc8"
      },
      "source": [
        "plt.figure(figsize=(7,7))\n",
        "plt.grid()\n",
        "plt.plot(history.history['loss'])\n",
        "plt.plot(history.history['val_loss'])\n",
        "plt.ylabel('Loss')\n",
        "plt.xlabel('Epochs')\n",
        "plt.legend(['Training','Validation'], loc='upper right')\n",
        "plt.savefig(\"/content/drive/My Drive/Data3/loss_curve_main_GPU.pdf\")\n",
        "plt.show()"
      ],
      "execution_count": null,
      "outputs": [
        {
          "output_type": "display_data",
          "data": {
            "image/png": "[encoded data removed]",
            "text/plain": [
              "<Figure size 504x504 with 1 Axes>"
            ]
          },
          "metadata": {
            "tags": []
          }
        }
      ]
    },
    {
      "cell_type": "code",
      "metadata": {
        "id": "GZ9skqjE9Ngr"
      },
      "source": [
        "#plt.plot(trained_model_[0].history['loss'][1:], label='Train loss', c='orange')\n",
        "#plt.plot(trained_model_[0].history['val_loss'][0:], label='Validation loss', c='blue')\n",
        "#plt.plot(trained_model_[0].history['loss'][2:], label='Validation loss', c='blue')\n",
        "#plt.plot(trained_model_[0].history['val_loss'], label='Train loss', c='red')\n",
        "#plt.axvline(x=213, c='gray', linestyle = '--')\n",
        "#plt.title('Model loss for SalinasA')\n",
        "#plt.ylabel('Loss')\n",
        "#plt.xlabel('Epoch')\n",
        "#plt.legend()\n",
        "#plt.savefig('Validation loss except for SalinasA.png', dpi=100)\n",
        "#plt.show()"
      ],
      "execution_count": null,
      "outputs": []
    },
    {
      "cell_type": "code",
      "metadata": {
        "id": "sP4UKBKYoSWN"
      },
      "source": [
        "def Patch(data,height_index,width_index):\n",
        "    height_slice = slice(height_index, height_index+PATCH_SIZE)\n",
        "    width_slice = slice(width_index, width_index+PATCH_SIZE)\n",
        "    patch = data[height_slice, width_slice, :]\n",
        "    \n",
        "    return patch"
      ],
      "execution_count": null,
      "outputs": []
    },
    {
      "cell_type": "code",
      "metadata": {
        "colab": {
          "base_uri": "https://localhost:8080/"
        },
        "id": "1U3sqn8hoSTg",
        "outputId": "daf7c91c-a5c2-4e42-f4ae-0063a469b452"
      },
      "source": [
        "# load the original image\n",
        "X, y = loadData(dataset)\n",
        "X.shape,y.shape"
      ],
      "execution_count": null,
      "outputs": [
        {
          "output_type": "execute_result",
          "data": {
            "text/plain": [
              "((145, 145, 200), (145, 145))"
            ]
          },
          "metadata": {
            "tags": []
          },
          "execution_count": 51
        }
      ]
    },
    {
      "cell_type": "code",
      "metadata": {
        "id": "IM3fCBntoSOS"
      },
      "source": [
        "height = y.shape[0]\n",
        "width = y.shape[1]\n",
        "PATCH_SIZE = windowSize\n",
        "numComponents = 15"
      ],
      "execution_count": null,
      "outputs": []
    },
    {
      "cell_type": "code",
      "metadata": {
        "id": "-QWy4cXyoSGr"
      },
      "source": [
        "X,pca = applyPCA(X, numComponents=numComponents)"
      ],
      "execution_count": null,
      "outputs": []
    },
    {
      "cell_type": "code",
      "metadata": {
        "colab": {
          "base_uri": "https://localhost:8080/"
        },
        "id": "O49uOHIQpUNS",
        "outputId": "f4ceadee-7715-4df6-b656-f44823f64e2f"
      },
      "source": [
        "#Binarization of image\n",
        "X2=np.zeros(X.shape)\n",
        "X2[:,:,:]=X[:,:,:]\n",
        "bimage2 = (255*(X2 - np.min(X2))/np.ptp(X2)).astype(int)   \n",
        "th2=np.sum(bimage2)//(145*145*15)\n",
        "bimage2= np.where(bimage2 >= th2, 1, 0)\n",
        "\n",
        "for i in range(15):\n",
        "  Xtemp2 = bimage2[:,:,i]\n",
        "  (hog_desc2, hog_image2) = feature.hog(Xtemp2, orientations=9, pixels_per_cell=(2, 2),\n",
        "                                      cells_per_block=(8, 8), transform_sqrt=True, block_norm='L2-Hys', visualize=True)\n",
        "  hog_image_temp2=np.reshape(hog_image2, (145, 145, 1))\n",
        "  X = np.concatenate((X, hog_image_temp2), axis=2)\n",
        "  print(hog_image_temp2.shape,X.shape)\n",
        "\n",
        "#import matplotlib.pyplot as plt\n",
        "#_, axes = plt.subplots(2, 5, figsize=(30,20))\n",
        "#axes = axes.flatten()\n",
        "#for i in range(10):\n",
        "#  axes[i].imshow(bimage2[:,:,i])\n",
        "\n"
      ],
      "execution_count": null,
      "outputs": [
        {
          "output_type": "stream",
          "text": [
            "(145, 145, 1) (145, 145, 16)\n",
            "(145, 145, 1) (145, 145, 17)\n",
            "(145, 145, 1) (145, 145, 18)\n",
            "(145, 145, 1) (145, 145, 19)\n",
            "(145, 145, 1) (145, 145, 20)\n",
            "(145, 145, 1) (145, 145, 21)\n",
            "(145, 145, 1) (145, 145, 22)\n",
            "(145, 145, 1) (145, 145, 23)\n",
            "(145, 145, 1) (145, 145, 24)\n",
            "(145, 145, 1) (145, 145, 25)\n",
            "(145, 145, 1) (145, 145, 26)\n",
            "(145, 145, 1) (145, 145, 27)\n",
            "(145, 145, 1) (145, 145, 28)\n",
            "(145, 145, 1) (145, 145, 29)\n",
            "(145, 145, 1) (145, 145, 30)\n"
          ],
          "name": "stdout"
        }
      ]
    },
    {
      "cell_type": "code",
      "metadata": {
        "id": "GMk43dNzj5p0"
      },
      "source": [
        "#import matplotlib.pyplot as plt\n",
        "#_, axes = plt.subplots(4, 5, figsize=(30,20))\n",
        "#axes = axes.flatten()\n",
        "#for i in range(20):\n",
        "#    axes[i].imshow(X[:,:,i])"
      ],
      "execution_count": null,
      "outputs": []
    },
    {
      "cell_type": "code",
      "metadata": {
        "colab": {
          "base_uri": "https://localhost:8080/"
        },
        "id": "Q1koOYOVQLTA",
        "outputId": "2317e2cc-7404-474a-8377-8001f10a20f1"
      },
      "source": [
        "X.shape"
      ],
      "execution_count": null,
      "outputs": [
        {
          "output_type": "execute_result",
          "data": {
            "text/plain": [
              "(145, 145, 30)"
            ]
          },
          "metadata": {
            "tags": []
          },
          "execution_count": 56
        }
      ]
    },
    {
      "cell_type": "code",
      "metadata": {
        "id": "xQBed38AwefM"
      },
      "source": [
        "#X[:,:,0:10]=dctn(X[:,:,0:10])"
      ],
      "execution_count": null,
      "outputs": []
    },
    {
      "cell_type": "code",
      "metadata": {
        "colab": {
          "base_uri": "https://localhost:8080/"
        },
        "id": "UiagA361o-Ck",
        "outputId": "b0556de9-f729-4ffc-82f9-1de33fb7dcc6"
      },
      "source": [
        "X = padWithZeros(X, PATCH_SIZE//2)\n",
        "X.shape"
      ],
      "execution_count": null,
      "outputs": [
        {
          "output_type": "execute_result",
          "data": {
            "text/plain": [
              "(169, 169, 30)"
            ]
          },
          "metadata": {
            "tags": []
          },
          "execution_count": 58
        }
      ]
    },
    {
      "cell_type": "code",
      "metadata": {
        "id": "l9msvWydoReX"
      },
      "source": [
        "#import matplotlib.pyplot as plt\n",
        "#_, axes = plt.subplots(4, 5, figsize=(30,20))\n",
        "#axes = axes.flatten()\n",
        "#for i in range(20):\n",
        "#    axes[i].imshow(X[:,:,i])"
      ],
      "execution_count": null,
      "outputs": []
    },
    {
      "cell_type": "code",
      "metadata": {
        "colab": {
          "background_save": true
        },
        "id": "3Q5GW4SApNK0"
      },
      "source": [
        "# calculate the predicted image\n",
        "outputs = np.zeros((height,width))\n",
        "for i in range(height):\n",
        "    for j in range(width):\n",
        "        target = int(y[i,j])\n",
        "        if target == 0 :\n",
        "            continue\n",
        "        else :\n",
        "            image_patch=Patch(X,i,j)\n",
        "            X_test_image = image_patch.reshape(1,image_patch.shape[0],image_patch.shape[1], image_patch.shape[2], 1).astype('float32')\n",
        "            X_test_image[0,:,:,:15,0]=dctn(X_test_image[0,:,:,:15,0])                                   \n",
        "            prediction = (model.predict(X_test_image))\n",
        "            prediction = np.argmax(prediction, axis=1)\n",
        "            outputs[i][j] = prediction+1"
      ],
      "execution_count": null,
      "outputs": []
    },
    {
      "cell_type": "code",
      "metadata": {
        "colab": {
          "background_save": true
        },
        "id": "ou_l-oVNpM9T",
        "outputId": "9841cad7-b6d7-4c1a-8240-f8233f1d25ca"
      },
      "source": [
        "ground_truth = spectral.imshow(classes = y,figsize =(7,7))"
      ],
      "execution_count": null,
      "outputs": [
        {
          "output_type": "display_data",
          "data": {
            "image/png": "[encoded data removed]",
            "text/plain": [
              "<Figure size 504x504 with 1 Axes>"
            ]
          },
          "metadata": {
            "tags": []
          }
        }
      ]
    },
    {
      "cell_type": "code",
      "metadata": {
        "colab": {
          "background_save": true
        },
        "id": "AMDkyNeJpMx-",
        "outputId": "e93e7452-c7cf-4489-f266-35fb53f5623d"
      },
      "source": [
        "predict_image = spectral.imshow(classes = outputs.astype(int),figsize =(7,7))"
      ],
      "execution_count": null,
      "outputs": [
        {
          "output_type": "display_data",
          "data": {
            "image/png": "[encoded data removed]",
            "text/plain": [
              "<Figure size 504x504 with 1 Axes>"
            ]
          },
          "metadata": {
            "tags": []
          }
        }
      ]
    },
    {
      "cell_type": "code",
      "metadata": {
        "colab": {
          "background_save": true
        },
        "id": "Ci_znROYpMnP"
      },
      "source": [
        "spectral.save_rgb(\"/content/drive/My Drive/Data3/DCT_predictions.jpg\", outputs.astype(int), colors=spectral.spy_colors)"
      ],
      "execution_count": null,
      "outputs": []
    },
    {
      "cell_type": "code",
      "metadata": {
        "colab": {
          "background_save": true
        },
        "id": "x-CSA1GppMeK"
      },
      "source": [
        "spectral.save_rgb(str(dataset)+\"_ground_truth508_PU1.jpg\", y, colors=spectral.spy_colors)"
      ],
      "execution_count": null,
      "outputs": []
    },
    {
      "cell_type": "code",
      "metadata": {
        "colab": {
          "background_save": true
        },
        "id": "2sWcfzcYpMTK",
        "outputId": "ab65fe76-ce46-4237-fa4b-f347edadd0a4"
      },
      "source": [
        "print(\"Time taken for training: {:.2f}s\".format(end-start)) #Calculate Time taken for training"
      ],
      "execution_count": null,
      "outputs": [
        {
          "output_type": "stream",
          "text": [
            "Time taken for training: 154.00s\n"
          ],
          "name": "stdout"
        }
      ]
    },
    {
      "cell_type": "code",
      "metadata": {
        "colab": {
          "background_save": true
        },
        "id": "PF6aIXbypz91"
      },
      "source": [],
      "execution_count": null,
      "outputs": []
    }
  ]
}